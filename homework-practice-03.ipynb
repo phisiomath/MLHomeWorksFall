{
 "cells": [
  {
   "cell_type": "markdown",
   "metadata": {
    "toc": true
   },
   "source": [
    "<h1>Table of Contents<span class=\"tocSkip\"></span></h1>\n",
    "<div class=\"toc\"><ul class=\"toc-item\"><li><span><a href=\"#Машинное-обучение,-ФКН-ВШЭ\" data-toc-modified-id=\"Машинное-обучение,-ФКН-ВШЭ-1\"><span class=\"toc-item-num\">1&nbsp;&nbsp;</span>Машинное обучение, ФКН ВШЭ</a></span><ul class=\"toc-item\"><li><span><a href=\"#Практическое-задание-3.-Градиентный-спуск-своими-руками\" data-toc-modified-id=\"Практическое-задание-3.-Градиентный-спуск-своими-руками-1.1\"><span class=\"toc-item-num\">1.1&nbsp;&nbsp;</span>Практическое задание 3. Градиентный спуск своими руками</a></span><ul class=\"toc-item\"><li><span><a href=\"#Общая-информация\" data-toc-modified-id=\"Общая-информация-1.1.1\"><span class=\"toc-item-num\">1.1.1&nbsp;&nbsp;</span>Общая информация</a></span></li><li><span><a href=\"#О-задании\" data-toc-modified-id=\"О-задании-1.1.2\"><span class=\"toc-item-num\">1.1.2&nbsp;&nbsp;</span>О задании</a></span></li><li><span><a href=\"#Оценивание-и-штрафы\" data-toc-modified-id=\"Оценивание-и-штрафы-1.1.3\"><span class=\"toc-item-num\">1.1.3&nbsp;&nbsp;</span>Оценивание и штрафы</a></span></li><li><span><a href=\"#Формат-сдачи\" data-toc-modified-id=\"Формат-сдачи-1.1.4\"><span class=\"toc-item-num\">1.1.4&nbsp;&nbsp;</span>Формат сдачи</a></span></li></ul></li><li><span><a href=\"#Реализация-градиентного-спуска\" data-toc-modified-id=\"Реализация-градиентного-спуска-1.2\"><span class=\"toc-item-num\">1.2&nbsp;&nbsp;</span>Реализация градиентного спуска</a></span></li><li><span><a href=\"#Задание-4-(0-баллов).\" data-toc-modified-id=\"Задание-4-(0-баллов).-1.3\"><span class=\"toc-item-num\">1.3&nbsp;&nbsp;</span><strong>Задание 4 (0 баллов)</strong>.</a></span></li><li><span><a href=\"#Задание-5-(3-балла).\" data-toc-modified-id=\"Задание-5-(3-балла).-1.4\"><span class=\"toc-item-num\">1.4&nbsp;&nbsp;</span><strong>Задание 5 (3 балла)</strong>.</a></span><ul class=\"toc-item\"><li><span><a href=\"#Для-стохастики:\" data-toc-modified-id=\"Для-стохастики:-1.4.1\"><span class=\"toc-item-num\">1.4.1&nbsp;&nbsp;</span>Для стохастики:</a></span></li><li><span><a href=\"#Momentum\" data-toc-modified-id=\"Momentum-1.4.2\"><span class=\"toc-item-num\">1.4.2&nbsp;&nbsp;</span>Momentum</a></span></li></ul></li><li><span><a href=\"#Задание-6-(2-балла).\" data-toc-modified-id=\"Задание-6-(2-балла).-1.5\"><span class=\"toc-item-num\">1.5&nbsp;&nbsp;</span><strong>Задание 6 (2 балла)</strong>.</a></span><ul class=\"toc-item\"><li><span><a href=\"#Бонус\" data-toc-modified-id=\"Бонус-1.5.1\"><span class=\"toc-item-num\">1.5.1&nbsp;&nbsp;</span>Бонус</a></span></li></ul></li><li><span><a href=\"#Задание-7-(2-балла).\" data-toc-modified-id=\"Задание-7-(2-балла).-1.6\"><span class=\"toc-item-num\">1.6&nbsp;&nbsp;</span><strong>Задание 7 (2 балла)</strong>.</a></span></li><li><span><a href=\"#Задание-8-(2-балла).\" data-toc-modified-id=\"Задание-8-(2-балла).-1.7\"><span class=\"toc-item-num\">1.7&nbsp;&nbsp;</span><strong>Задание 8 (2 балла)</strong>.</a></span></li></ul></li></ul></div>"
   ]
  },
  {
   "cell_type": "markdown",
   "metadata": {},
   "source": [
    "# Машинное обучение, ФКН ВШЭ\n",
    "\n",
    "## Практическое задание 3. Градиентный спуск своими руками\n",
    "\n",
    "### Общая информация\n",
    "Дата выдачи: 05.10.2019\n",
    "\n",
    "Мягкий дедлайн: 07:59MSK 14.10.2019 (за каждый день просрочки снимается 1 балл)\n",
    "\n",
    "Жесткий дедлайн: 23:59MSK 16.10.2019"
   ]
  },
  {
   "cell_type": "markdown",
   "metadata": {},
   "source": [
    "### О задании\n",
    "\n",
    "В данном задании необходимо реализовать обучение линейной регрессии с помощью различных вариантов градиентного спуска.\n",
    "\n",
    "\n",
    "### Оценивание и штрафы\n",
    "Каждая из задач имеет определенную «стоимость» (указана в скобках около задачи). Максимально допустимая оценка за работу — 10 баллов.\n",
    "\n",
    "Сдавать задание после указанного срока сдачи нельзя. При выставлении неполного балла за задание в связи с наличием ошибок на усмотрение проверяющего предусмотрена возможность исправить работу на указанных в ответном письме условиях.\n",
    "\n",
    "Задание выполняется самостоятельно. «Похожие» решения считаются плагиатом и все задействованные студенты (в том числе те, у кого списали) не могут получить за него больше 0 баллов (подробнее о плагиате см. на странице курса). Если вы нашли решение какого-то из заданий (или его часть) в открытом источнике, необходимо указать ссылку на этот источник в отдельном блоке в конце вашей работы (скорее всего вы будете не единственным, кто это нашел, поэтому чтобы исключить подозрение в плагиате, необходима ссылка на источник).\n",
    "\n",
    "Неэффективная реализация кода может негативно отразиться на оценке.\n",
    "\n",
    "Все ответы должны сопровождаться кодом или комментариями о том, как они были получены.\n",
    "\n",
    "\n",
    "### Формат сдачи\n",
    "Задания сдаются через систему Anytask. Инвайт можно найти на странице курса. Присылать необходимо ноутбук с выполненным заданием. \n",
    "\n",
    "Для удобства проверки самостоятельно посчитайте свою максимальную оценку (исходя из набора решенных задач) и укажите ниже.\n",
    "\n",
    "**Оценка**: ..."
   ]
  },
  {
   "cell_type": "markdown",
   "metadata": {},
   "source": [
    "## Реализация градиентного спуска\n",
    "\n",
    "Реализуйте линейную регрессию с функцией потерь MSE, обучаемую с помощью:\n",
    "\n",
    "**Задание 1 (1 балл)** Градиентного спуска;\n",
    "\n",
    "**Задание 2 (1.5 балла)** Стохастического градиентного спуска;\n",
    "\n",
    "**Задание 3 (2.5 балла)** Метода Momentum.\n",
    "\n",
    "\n",
    "Во всех пунктах необходимо соблюдать следующие условия:\n",
    "\n",
    "* Все вычисления должны быть векторизованы;\n",
    "* Циклы средствами python допускается использовать только для итераций градиентного спуска;\n",
    "* В качестве критерия останова необходимо использовать (одновременно):\n",
    "\n",
    "    * проверку на евклидовую норму разности весов на двух соседних итерациях (например, меньше некоторого малого числа порядка $10^{-6}$, задаваемого параметром `tolerance`);\n",
    "    * достижение максимального числа итераций (например, 10000, задаваемого параметром `max_iter`).\n",
    "* Чтобы проследить, что оптимизационный процесс действительно сходится, будем использовать атрибут класса `loss_history` — в нём после вызова метода `fit` должны содержаться значения функции потерь для всех итераций, начиная с первой (до совершения первого шага по антиградиенту);\n",
    "* Инициализировать веса можно случайным образом или нулевым вектором. \n",
    "\n",
    "\n",
    "Ниже приведён шаблон класса, который должен содержать код реализации каждого из методов."
   ]
  },
  {
   "cell_type": "code",
   "execution_count": 1,
   "metadata": {
    "ExecuteTime": {
     "end_time": "2019-10-15T00:17:43.481038Z",
     "start_time": "2019-10-15T00:17:42.111621Z"
    }
   },
   "outputs": [],
   "source": [
    "import numpy as np\n",
    "from sklearn.base import BaseEstimator\n",
    "from sklearn.metrics import mean_squared_error\n",
    "from sklearn.metrics import r2_score\n",
    "import pandas as pd\n",
    "from sklearn.model_selection import train_test_split\n",
    "import matplotlib.pyplot as plt\n",
    "%matplotlib inline\n",
    "\n",
    "import seaborn as sns\n",
    "sns.set(style=\"darkgrid\")"
   ]
  },
  {
   "cell_type": "code",
   "execution_count": null,
   "metadata": {},
   "outputs": [],
   "source": []
  },
  {
   "cell_type": "code",
   "execution_count": 2,
   "metadata": {
    "ExecuteTime": {
     "end_time": "2019-10-15T00:17:43.486815Z",
     "start_time": "2019-10-15T00:17:43.483104Z"
    }
   },
   "outputs": [],
   "source": [
    "def mse_calc(y_true, y_pred):\n",
    "    error = (np.round(y_true, 6) - np.round(y_pred, 6)) ** 2\n",
    "    return np.round(np.mean(error), 6)"
   ]
  },
  {
   "cell_type": "code",
   "execution_count": 3,
   "metadata": {
    "ExecuteTime": {
     "end_time": "2019-10-15T00:17:43.504359Z",
     "start_time": "2019-10-15T00:17:43.489314Z"
    }
   },
   "outputs": [],
   "source": [
    "class LinearReg(BaseEstimator):\n",
    "    def __init__(self, delta=1.0, gd_type='full', \n",
    "                 tolerance=1e-4, max_iter=1000, w0=None, alpha=1e-2, eta=1e-5, iter_steps=False):\n",
    "        \"\"\"\n",
    "        gd_type: 'full' or 'stochastic' or 'momentum'\n",
    "        tolerance: for stopping gradient descent\n",
    "        max_iter: maximum number of steps in gradient descent\n",
    "        w0: np.array of shape (d) - init weights\n",
    "        eta: learning rate\n",
    "        alpha: momentum coefficient\n",
    "        iter_steps: Enable step sequence for Robbins–Monro algorithm in 'stohastic' (addition) \n",
    "        \"\"\"\n",
    "        self.delta = delta\n",
    "        self.gd_type = gd_type\n",
    "        self.tolerance = tolerance\n",
    "        self.max_iter = max_iter\n",
    "        self.w0 = w0\n",
    "        self.alpha = alpha\n",
    "        self.w = None\n",
    "        self.eta = eta\n",
    "        self.loss_history = None # list of loss function values at each training iteration\n",
    "        self.final = -1\n",
    "    \n",
    "    def fit(self, X, y):\n",
    "        \"\"\"\n",
    "        X: np.array of shape (ell, d)\n",
    "        y: np.array of shape (ell)\n",
    "        ---\n",
    "        output: self\n",
    "        \"\"\"\n",
    "        self.loss_history = []\n",
    "        # ingnore strings \n",
    "        X_n = X.loc[:, X.select_dtypes('number').columns]\n",
    "        X_n[\"bias\"] = 1\n",
    "        if self.w0:\n",
    "            self.w = self.w0\n",
    "        else:\n",
    "            self.w = np.zeros(X_n.shape[1])\n",
    "        h0 = np.zeros(X_n.shape[1])\n",
    "        h = h0\n",
    "        if self.gd_type == \"full\":\n",
    "            for i in range(self.max_iter):\n",
    "                candidat = self.w - self.eta*self.calc_gradient(X_n, y)\n",
    "                if np.sqrt(mean_squared_error(self.w, candidat)) < self.tolerance:\n",
    "#                     print(\"Final Step\", i)\n",
    "                    self.final = i\n",
    "                    break;\n",
    "                self.w = candidat\n",
    "                self.loss_history.append(self.calc_loss(X_n, y))\n",
    "            if self.final == -1:\n",
    "                self.final = self.max_iter\n",
    "        if self.gd_type == 'stohastic':\n",
    "            for i in range(self.max_iter):\n",
    "                idx = np.random.randint(1, X_n.shape[0], size=1)\n",
    "                candidat = self.w - self.eta*self.calc_gradient(X_n.iloc[idx], y.iloc[idx])\n",
    "                if np.sqrt(mean_squared_error(self.w, candidat)) < self.tolerance:\n",
    "#                     print(\"Final Step\", i)\n",
    "                    self.final = i\n",
    "                    break;\n",
    "                self.w = candidat\n",
    "                self.loss_history.append(self.calc_loss(X_n, y))\n",
    "            if self.final == -1:\n",
    "                self.final = self.max_iter\n",
    "        if self.gd_type == 'momentum':\n",
    "            for i in range(self.max_iter):\n",
    "                h = self.alpha*h + self.eta*self.calc_gradient(X_n, y)\n",
    "                candidat = self.w - h\n",
    "                if np.sqrt(mean_squared_error(self.w, candidat)) < self.tolerance:\n",
    "#                     print(\"Final Step\", i)\n",
    "                    self.final = i\n",
    "                    break;\n",
    "                self.w = candidat\n",
    "                self.loss_history.append(self.calc_loss(X_n, y))\n",
    "            if self.final == -1:\n",
    "                self.final = self.max_iter\n",
    "        return self\n",
    "    \n",
    "    def predict(self, X):\n",
    "        X_n = X.loc[:, X.select_dtypes('number').columns]\n",
    "        X_n[\"bias\"] = 1\n",
    "        return X_n @ self.w\n",
    "    \n",
    "    def calc_gradient(self, X, y):\n",
    "        \"\"\"\n",
    "        X: np.array of shape (ell, d) (ell can be equal to 1 if stochastic)\n",
    "        y: np.array of shape (ell)\n",
    "        ---\n",
    "        output: np.array of shape (d)\n",
    "        \"\"\"\n",
    "#         print(X.shape, self.w.shape)\n",
    "        return 2 * np.dot(X.T, (np.dot(X , self.w) - y)) / X.shape[0]\n",
    "    def calc_loss(self, X, y):\n",
    "        \"\"\"\n",
    "        X: np.array of shape (ell, d)\n",
    "        y: np.array of shape (ell)\n",
    "        ---\n",
    "        output: float \n",
    "        \"\"\" \n",
    "        return mean_squared_error(self.predict(X), y)\n",
    "    def get_finish():\n",
    "        return self.final"
   ]
  },
  {
   "cell_type": "code",
   "execution_count": 4,
   "metadata": {
    "ExecuteTime": {
     "end_time": "2019-10-15T00:17:43.509147Z",
     "start_time": "2019-10-15T00:17:43.506442Z"
    }
   },
   "outputs": [],
   "source": [
    "linreg_full = LinearReg(gd_type='full')\n",
    "linreg_sgd = LinearReg(gd_type='stohastic')\n",
    "linreg_momentum = LinearReg(gd_type='momentum', alpha=0.1)"
   ]
  },
  {
   "cell_type": "markdown",
   "metadata": {},
   "source": [
    "## **Задание 4 (0 баллов)**. \n",
    "* Загрузите данные из домашнего задания 2 ([train.csv](https://www.kaggle.com/c/nyc-taxi-trip-duration/data));\n",
    "* Разбейте выборку на обучающую и тестовую в отношении 7:3 с random_seed=0;\n",
    "* Преобразуйте целевую переменную `trip_duration` как $\\hat{y} = \\log{(y + 1)}$."
   ]
  },
  {
   "cell_type": "code",
   "execution_count": 5,
   "metadata": {
    "ExecuteTime": {
     "end_time": "2019-10-15T00:17:46.837510Z",
     "start_time": "2019-10-15T00:17:43.510786Z"
    }
   },
   "outputs": [],
   "source": [
    "data = pd.read_csv(r'/Users/armine/Downloads/train.csv')"
   ]
  },
  {
   "cell_type": "code",
   "execution_count": 6,
   "metadata": {
    "ExecuteTime": {
     "end_time": "2019-10-15T00:17:46.858043Z",
     "start_time": "2019-10-15T00:17:46.839467Z"
    }
   },
   "outputs": [],
   "source": [
    "data['log_trip_duration'] = data['trip_duration'].apply(np.log1p)"
   ]
  },
  {
   "cell_type": "code",
   "execution_count": 7,
   "metadata": {
    "ExecuteTime": {
     "end_time": "2019-10-15T00:17:46.863265Z",
     "start_time": "2019-10-15T00:17:46.860242Z"
    }
   },
   "outputs": [],
   "source": [
    "log_trip_dur = data.log_trip_duration\n",
    "trip_dur = data.trip_duration"
   ]
  },
  {
   "cell_type": "code",
   "execution_count": 8,
   "metadata": {
    "ExecuteTime": {
     "end_time": "2019-10-15T00:17:47.013698Z",
     "start_time": "2019-10-15T00:17:46.865596Z"
    }
   },
   "outputs": [],
   "source": [
    "data.drop(columns=['trip_duration', 'log_trip_duration'], inplace=True)"
   ]
  },
  {
   "cell_type": "code",
   "execution_count": 9,
   "metadata": {
    "ExecuteTime": {
     "end_time": "2019-10-15T00:17:48.046416Z",
     "start_time": "2019-10-15T00:17:47.015349Z"
    }
   },
   "outputs": [],
   "source": [
    "X_train, X_test, y_train, y_test = train_test_split(data, log_trip_dur, test_size=0.3, random_state=0)"
   ]
  },
  {
   "cell_type": "markdown",
   "metadata": {},
   "source": [
    "## **Задание 5 (3 балла)**.\n",
    "Обучите и провалидируйте модели на данных из предыдущего пункта, сравните качество между методами по метрикам MSE и $R^2$. Исследуйте влияние параметров `max_iter` и `alpha` на процесс оптимизации. Согласуется ли оно с вашими ожиданиями?"
   ]
  },
  {
   "cell_type": "markdown",
   "metadata": {},
   "source": [
    "Сначала будут сырые прогоны, без подбора параметров."
   ]
  },
  {
   "cell_type": "code",
   "execution_count": 10,
   "metadata": {
    "ExecuteTime": {
     "end_time": "2019-10-15T00:17:49.446642Z",
     "start_time": "2019-10-15T00:17:48.050204Z"
    }
   },
   "outputs": [
    {
     "data": {
      "text/plain": [
       "LinearReg(alpha=0.01, delta=1.0, eta=1e-05, gd_type='full', iter_steps=None,\n",
       "          max_iter=1000, tolerance=0.0001, w0=None)"
      ]
     },
     "execution_count": 10,
     "metadata": {},
     "output_type": "execute_result"
    }
   ],
   "source": [
    "linreg_full.fit(X_train, y_train)"
   ]
  },
  {
   "cell_type": "code",
   "execution_count": 11,
   "metadata": {
    "ExecuteTime": {
     "end_time": "2019-10-15T00:17:49.475443Z",
     "start_time": "2019-10-15T00:17:49.449352Z"
    }
   },
   "outputs": [],
   "source": [
    "pred = linreg_full.predict(X_test)"
   ]
  },
  {
   "cell_type": "code",
   "execution_count": 12,
   "metadata": {
    "ExecuteTime": {
     "end_time": "2019-10-15T00:17:49.487671Z",
     "start_time": "2019-10-15T00:17:49.477331Z"
    }
   },
   "outputs": [
    {
     "name": "stdout",
     "output_type": "stream",
     "text": [
      "MSE 0.6373381964058988\n",
      "R2 -0.012213102020142808\n"
     ]
    }
   ],
   "source": [
    "print(\"MSE\", mean_squared_error(pred, y_test))\n",
    "print(\"R2\", r2_score(y_test, pred))"
   ]
  },
  {
   "cell_type": "code",
   "execution_count": 13,
   "metadata": {
    "ExecuteTime": {
     "end_time": "2019-10-15T00:17:50.196305Z",
     "start_time": "2019-10-15T00:17:49.489545Z"
    }
   },
   "outputs": [
    {
     "data": {
      "text/plain": [
       "LinearReg(alpha=0.01, delta=1.0, eta=1e-05, gd_type='stohastic',\n",
       "          iter_steps=None, max_iter=1000, tolerance=0.0001, w0=None)"
      ]
     },
     "execution_count": 13,
     "metadata": {},
     "output_type": "execute_result"
    }
   ],
   "source": [
    "linreg_sgd.fit(X_train, y_train)"
   ]
  },
  {
   "cell_type": "code",
   "execution_count": 14,
   "metadata": {
    "ExecuteTime": {
     "end_time": "2019-10-15T00:17:50.223246Z",
     "start_time": "2019-10-15T00:17:50.197992Z"
    }
   },
   "outputs": [],
   "source": [
    "pred_sgd = linreg_sgd.predict(X_test)"
   ]
  },
  {
   "cell_type": "code",
   "execution_count": 15,
   "metadata": {
    "ExecuteTime": {
     "end_time": "2019-10-15T00:17:50.235477Z",
     "start_time": "2019-10-15T00:17:50.225029Z"
    }
   },
   "outputs": [
    {
     "name": "stdout",
     "output_type": "stream",
     "text": [
      "MSE 0.8263738243807399\n",
      "R2 -0.31243728513638414\n"
     ]
    }
   ],
   "source": [
    "print(\"MSE\", mean_squared_error(pred_sgd, y_test))\n",
    "print(\"R2\", r2_score(y_test, pred_sgd))"
   ]
  },
  {
   "cell_type": "code",
   "execution_count": 16,
   "metadata": {
    "ExecuteTime": {
     "end_time": "2019-10-15T00:17:51.348799Z",
     "start_time": "2019-10-15T00:17:50.237495Z"
    }
   },
   "outputs": [
    {
     "data": {
      "text/plain": [
       "LinearReg(alpha=0.1, delta=1.0, eta=1e-05, gd_type='momentum', iter_steps=None,\n",
       "          max_iter=1000, tolerance=0.0001, w0=None)"
      ]
     },
     "execution_count": 16,
     "metadata": {},
     "output_type": "execute_result"
    }
   ],
   "source": [
    "linreg_momentum.fit(X_train, y_train)"
   ]
  },
  {
   "cell_type": "code",
   "execution_count": 17,
   "metadata": {
    "ExecuteTime": {
     "end_time": "2019-10-15T00:17:51.375470Z",
     "start_time": "2019-10-15T00:17:51.350964Z"
    }
   },
   "outputs": [],
   "source": [
    "pred_momentum = linreg_momentum.predict(X_test)"
   ]
  },
  {
   "cell_type": "code",
   "execution_count": 18,
   "metadata": {
    "ExecuteTime": {
     "end_time": "2019-10-15T00:17:51.386715Z",
     "start_time": "2019-10-15T00:17:51.377281Z"
    }
   },
   "outputs": [
    {
     "name": "stdout",
     "output_type": "stream",
     "text": [
      "MSE 0.6367969458137299\n",
      "R2 -0.01135349413227571\n"
     ]
    }
   ],
   "source": [
    "print(\"MSE\", mean_squared_error(pred_momentum, y_test))\n",
    "print(\"R2\", r2_score(y_test, pred_momentum))"
   ]
  },
  {
   "cell_type": "markdown",
   "metadata": {},
   "source": [
    " Выделим валидационную выборку (я интерпретирую `валидируйте` как подбор гиперпараметров и проверка на валидационной)\n",
    " \n",
    " Можно воспользоваться GridSearch-ем, но попросили руками\n",
    " "
   ]
  },
  {
   "cell_type": "code",
   "execution_count": 19,
   "metadata": {
    "ExecuteTime": {
     "end_time": "2019-10-15T00:17:52.047661Z",
     "start_time": "2019-10-15T00:17:51.389417Z"
    }
   },
   "outputs": [],
   "source": [
    "x_v_train, x_v_test, y_v_train , y_v_test = train_test_split(X_train, y_train, test_size=0.3, random_state=0)"
   ]
  },
  {
   "cell_type": "code",
   "execution_count": 20,
   "metadata": {
    "ExecuteTime": {
     "end_time": "2019-10-15T00:17:52.052692Z",
     "start_time": "2019-10-15T00:17:52.049736Z"
    }
   },
   "outputs": [],
   "source": [
    "etas = np.linspace(1e-6, 9e-5, 20)\n",
    "max_iters =  [10, 100, 200]"
   ]
  },
  {
   "cell_type": "code",
   "execution_count": 21,
   "metadata": {
    "ExecuteTime": {
     "end_time": "2019-10-15T00:20:57.946029Z",
     "start_time": "2019-10-15T00:17:52.057053Z"
    },
    "scrolled": true
   },
   "outputs": [
    {
     "name": "stdout",
     "output_type": "stream",
     "text": [
      "Params 10 1e-06\n",
      "MSE 24.07060728583922\n",
      "Params 10 5.68421052631579e-06\n",
      "MSE 1.8463277763772514\n",
      "Params 10 1.0368421052631581e-05\n",
      "MSE 0.6703608637749516\n",
      "Params 10 1.5052631578947372e-05\n",
      "MSE 0.6333004611633768\n",
      "Params 10 1.973684210526316e-05\n",
      "MSE 0.6327268753394368\n",
      "Params 10 2.442105263157895e-05\n",
      "MSE 0.6327227485106539\n",
      "Params 10 2.9105263157894744e-05\n",
      "MSE 0.6327228544652831\n",
      "Params 10 3.3789473684210526e-05\n",
      "MSE 0.63272277224452\n",
      "Params 10 3.847368421052632e-05\n",
      "MSE 0.6327225948371829\n",
      "Params 10 4.315789473684211e-05\n",
      "MSE 0.632722400847642\n",
      "Params 10 4.78421052631579e-05\n",
      "MSE 0.6327224254152684\n",
      "Params 10 5.252631578947369e-05\n",
      "MSE 0.6327667670671988\n",
      "Params 10 5.721052631578948e-05\n",
      "MSE 0.6372440443684761\n",
      "Params 10 6.189473684210528e-05\n",
      "MSE 0.8390355621524648\n",
      "Params 10 6.657894736842106e-05\n",
      "MSE 5.761936995006427\n",
      "Params 10 7.126315789473685e-05\n",
      "MSE 82.38508277181651\n",
      "Params 10 7.594736842105264e-05\n",
      "MSE 930.9328828612407\n",
      "Params 10 8.063157894736843e-05\n",
      "MSE 8131.88319724204\n",
      "Params 10 8.531578947368423e-05\n",
      "MSE 57484.15598604092\n",
      "Params 10 9e-05\n",
      "MSE 341365.5676840994\n",
      "Params 100 1e-06\n",
      "MSE 0.7607304882041097\n",
      "Params 100 5.68421052631579e-06\n",
      "MSE 0.6327278694975105\n",
      "Params 100 1.0368421052631581e-05\n",
      "MSE 0.632724492683954\n",
      "Params 100 1.5052631578947372e-05\n",
      "MSE 0.6327231856345656\n",
      "Params 100 1.973684210526316e-05\n",
      "MSE 0.6327229585756513\n",
      "Params 100 2.442105263157895e-05\n",
      "MSE 0.6327227485106539\n",
      "Params 100 2.9105263157894744e-05\n",
      "MSE 0.6327228544652831\n",
      "Params 100 3.3789473684210526e-05\n",
      "MSE 0.63272277224452\n",
      "Params 100 3.847368421052632e-05\n",
      "MSE 0.6327225948371829\n",
      "Params 100 4.315789473684211e-05\n",
      "MSE 0.632722400847642\n",
      "Params 100 4.78421052631579e-05\n",
      "MSE 0.6327218992950209\n",
      "Params 100 5.252631578947369e-05\n",
      "MSE 0.6327212177816862\n",
      "Params 100 5.721052631578948e-05\n",
      "MSE 0.6327149644917505\n",
      "Params 100 6.189473684210528e-05\n",
      "MSE 0.6327109970772693\n",
      "Params 100 6.657894736842106e-05\n",
      "MSE 0.6327103134760531\n",
      "Params 100 7.126315789473685e-05\n",
      "MSE 34063.6458582247\n",
      "Params 100 7.594736842105264e-05\n",
      "MSE 1241186100176809.5\n",
      "Params 100 8.063157894736843e-05\n",
      "MSE 3.230508208484378e+24\n",
      "Params 100 8.531578947368423e-05\n",
      "MSE 1.0073036996930589e+33\n",
      "Params 100 9e-05\n",
      "MSE 5.494473666750066e+40\n",
      "Params 200 1e-06\n",
      "MSE 0.6331315253553578\n",
      "Params 200 5.68421052631579e-06\n",
      "MSE 0.6327278694975105\n",
      "Params 200 1.0368421052631581e-05\n",
      "MSE 0.632724492683954\n",
      "Params 200 1.5052631578947372e-05\n",
      "MSE 0.6327231856345656\n",
      "Params 200 1.973684210526316e-05\n",
      "MSE 0.6327229585756513\n",
      "Params 200 2.442105263157895e-05\n",
      "MSE 0.6327227485106539\n",
      "Params 200 2.9105263157894744e-05\n",
      "MSE 0.6327228544652831\n",
      "Params 200 3.3789473684210526e-05\n",
      "MSE 0.63272277224452\n",
      "Params 200 3.847368421052632e-05\n",
      "MSE 0.6327225948371829\n",
      "Params 200 4.315789473684211e-05\n",
      "MSE 0.632722400847642\n",
      "Params 200 4.78421052631579e-05\n",
      "MSE 0.6327218992950209\n",
      "Params 200 5.252631578947369e-05\n",
      "MSE 0.6327212177816862\n",
      "Params 200 5.721052631578948e-05\n",
      "MSE 0.6327149644917505\n",
      "Params 200 6.189473684210528e-05\n",
      "MSE 0.6326994720423039\n",
      "Params 200 6.657894736842106e-05\n",
      "MSE 0.63269777033917\n",
      "Params 200 7.126315789473685e-05\n",
      "MSE 27745968.436926756\n",
      "Params 200 7.594736842105264e-05\n",
      "MSE 3.6839358138605973e+28\n",
      "Params 200 8.063157894736843e-05\n",
      "MSE 2.495628553141801e+47\n",
      "Params 200 8.531578947368423e-05\n",
      "MSE 2.4263816127475977e+64\n",
      "Params 200 9e-05\n",
      "MSE 7.219222724080246e+79\n"
     ]
    }
   ],
   "source": [
    "best_params = []\n",
    "params = []\n",
    "min_mse = -1\n",
    "best_mse = []\n",
    "mse_all = []\n",
    "finals = []\n",
    "best_finals = []\n",
    "for max_iter in max_iters:\n",
    "    for eta in etas:\n",
    "        linreg = LinearReg(max_iter=max_iter, eta=eta, gd_type='full', tolerance=1e-6)\n",
    "        linreg.fit(x_v_train, y_v_train)\n",
    "        print(\"Params\", max_iter, eta)\n",
    "        pred = linreg.predict(x_v_test)\n",
    "        mse = mean_squared_error(y_v_test, pred)\n",
    "        print(\"MSE\", mse)\n",
    "        params.append((max_iter, eta))\n",
    "        mse_all.append(mse)\n",
    "        finals.append(linreg.final)\n",
    "        if min_mse != -1 and mse < min_mse:\n",
    "            min_mse = mse\n",
    "            best_params.append((max_iter, eta))\n",
    "            best_mse.append(mse)\n",
    "            best_finals.append(linreg.final)\n",
    "        elif min_mse == -1:\n",
    "            min_mse = mse"
   ]
  },
  {
   "cell_type": "code",
   "execution_count": 22,
   "metadata": {
    "ExecuteTime": {
     "end_time": "2019-10-15T00:20:57.952326Z",
     "start_time": "2019-10-15T00:20:57.948193Z"
    }
   },
   "outputs": [
    {
     "name": "stdout",
     "output_type": "stream",
     "text": [
      "[(10, 5.68421052631579e-06), (10, 1.0368421052631581e-05), (10, 1.5052631578947372e-05), (10, 1.973684210526316e-05), (10, 2.442105263157895e-05), (10, 3.847368421052632e-05), (10, 4.315789473684211e-05), (100, 4.78421052631579e-05), (100, 5.252631578947369e-05), (100, 5.721052631578948e-05), (100, 6.189473684210528e-05), (100, 6.657894736842106e-05), (200, 6.189473684210528e-05), (200, 6.657894736842106e-05)]\n"
     ]
    }
   ],
   "source": [
    "print(best_params)"
   ]
  },
  {
   "cell_type": "code",
   "execution_count": 23,
   "metadata": {
    "ExecuteTime": {
     "end_time": "2019-10-15T00:20:57.958151Z",
     "start_time": "2019-10-15T00:20:57.954703Z"
    }
   },
   "outputs": [],
   "source": [
    "params_df = pd.DataFrame(params, columns=['iters', 'eta'])"
   ]
  },
  {
   "cell_type": "code",
   "execution_count": 24,
   "metadata": {
    "ExecuteTime": {
     "end_time": "2019-10-15T00:20:57.966517Z",
     "start_time": "2019-10-15T00:20:57.962774Z"
    }
   },
   "outputs": [],
   "source": [
    "params_df['mse'] = mse_all"
   ]
  },
  {
   "cell_type": "code",
   "execution_count": 25,
   "metadata": {
    "ExecuteTime": {
     "end_time": "2019-10-15T00:20:57.972144Z",
     "start_time": "2019-10-15T00:20:57.968616Z"
    }
   },
   "outputs": [],
   "source": [
    "params_df['eta'] *= 100"
   ]
  },
  {
   "cell_type": "code",
   "execution_count": 26,
   "metadata": {
    "ExecuteTime": {
     "end_time": "2019-10-15T00:20:58.313176Z",
     "start_time": "2019-10-15T00:20:57.974063Z"
    }
   },
   "outputs": [
    {
     "data": {
      "image/png": "[encoded data removed]",
      "text/plain": [
       "<Figure size 720x720 with 1 Axes>"
      ]
     },
     "metadata": {
      "needs_background": "light"
     },
     "output_type": "display_data"
    }
   ],
   "source": [
    "plt.figure(figsize=(10, 10))\n",
    "sns.lineplot(x='eta', y='mse', hue='iters',data=params_df)\n",
    "plt.title(\"Bad params\")\n",
    "plt.show()"
   ]
  },
  {
   "cell_type": "code",
   "execution_count": 39,
   "metadata": {
    "ExecuteTime": {
     "end_time": "2019-10-15T00:22:28.105372Z",
     "start_time": "2019-10-15T00:22:28.101093Z"
    }
   },
   "outputs": [],
   "source": [
    "params_df = pd.DataFrame(best_params[1:], columns=['iters', 'eta'])"
   ]
  },
  {
   "cell_type": "code",
   "execution_count": 40,
   "metadata": {
    "ExecuteTime": {
     "end_time": "2019-10-15T00:22:28.503385Z",
     "start_time": "2019-10-15T00:22:28.500312Z"
    }
   },
   "outputs": [],
   "source": [
    "params_df['mse'] = best_mse[1:]"
   ]
  },
  {
   "cell_type": "code",
   "execution_count": 41,
   "metadata": {
    "ExecuteTime": {
     "end_time": "2019-10-15T00:22:30.892138Z",
     "start_time": "2019-10-15T00:22:30.888480Z"
    }
   },
   "outputs": [],
   "source": [
    "params_df['eta'] *= 1000"
   ]
  },
  {
   "cell_type": "code",
   "execution_count": 56,
   "metadata": {
    "ExecuteTime": {
     "end_time": "2019-10-15T00:28:00.123044Z",
     "start_time": "2019-10-15T00:27:59.838364Z"
    }
   },
   "outputs": [
    {
     "data": {
      "image/png": "[encoded data removed]",
      "text/plain": [
       "<Figure size 720x720 with 1 Axes>"
      ]
     },
     "metadata": {
      "needs_background": "light"
     },
     "output_type": "display_data"
    }
   ],
   "source": [
    "plt.figure(figsize=(10, 10))\n",
    "sns.scatterplot(x='eta', y='mse', hue='iters',data=params_df, palette=['r', 'blue', \"purple\"])\n",
    "plt.title(\"Best params\")\n",
    "plt.xlabel(\"Eta*1000\")\n",
    "plt.show()"
   ]
  },
  {
   "cell_type": "code",
   "execution_count": 66,
   "metadata": {
    "ExecuteTime": {
     "end_time": "2019-10-15T00:30:53.445339Z",
     "start_time": "2019-10-15T00:30:53.442625Z"
    }
   },
   "outputs": [],
   "source": [
    "params_df['finals'] = best_finals[1:]"
   ]
  },
  {
   "cell_type": "code",
   "execution_count": 67,
   "metadata": {
    "ExecuteTime": {
     "end_time": "2019-10-15T00:30:58.242980Z",
     "start_time": "2019-10-15T00:30:58.233382Z"
    }
   },
   "outputs": [
    {
     "data": {
      "text/html": [
       "<div>\n",
       "<style scoped>\n",
       "    .dataframe tbody tr th:only-of-type {\n",
       "        vertical-align: middle;\n",
       "    }\n",
       "\n",
       "    .dataframe tbody tr th {\n",
       "        vertical-align: top;\n",
       "    }\n",
       "\n",
       "    .dataframe thead th {\n",
       "        text-align: right;\n",
       "    }\n",
       "</style>\n",
       "<table border=\"1\" class=\"dataframe\">\n",
       "  <thead>\n",
       "    <tr style=\"text-align: right;\">\n",
       "      <th></th>\n",
       "      <th>iters</th>\n",
       "      <th>eta</th>\n",
       "      <th>mse</th>\n",
       "      <th>finals</th>\n",
       "    </tr>\n",
       "  </thead>\n",
       "  <tbody>\n",
       "    <tr>\n",
       "      <th>0</th>\n",
       "      <td>10</td>\n",
       "      <td>0.010368</td>\n",
       "      <td>0.670361</td>\n",
       "      <td>10</td>\n",
       "    </tr>\n",
       "    <tr>\n",
       "      <th>1</th>\n",
       "      <td>10</td>\n",
       "      <td>0.015053</td>\n",
       "      <td>0.633300</td>\n",
       "      <td>10</td>\n",
       "    </tr>\n",
       "    <tr>\n",
       "      <th>2</th>\n",
       "      <td>10</td>\n",
       "      <td>0.019737</td>\n",
       "      <td>0.632727</td>\n",
       "      <td>10</td>\n",
       "    </tr>\n",
       "    <tr>\n",
       "      <th>3</th>\n",
       "      <td>10</td>\n",
       "      <td>0.024421</td>\n",
       "      <td>0.632723</td>\n",
       "      <td>9</td>\n",
       "    </tr>\n",
       "    <tr>\n",
       "      <th>4</th>\n",
       "      <td>10</td>\n",
       "      <td>0.038474</td>\n",
       "      <td>0.632723</td>\n",
       "      <td>5</td>\n",
       "    </tr>\n",
       "    <tr>\n",
       "      <th>5</th>\n",
       "      <td>10</td>\n",
       "      <td>0.043158</td>\n",
       "      <td>0.632722</td>\n",
       "      <td>8</td>\n",
       "    </tr>\n",
       "    <tr>\n",
       "      <th>6</th>\n",
       "      <td>100</td>\n",
       "      <td>0.047842</td>\n",
       "      <td>0.632722</td>\n",
       "      <td>11</td>\n",
       "    </tr>\n",
       "    <tr>\n",
       "      <th>7</th>\n",
       "      <td>100</td>\n",
       "      <td>0.052526</td>\n",
       "      <td>0.632721</td>\n",
       "      <td>17</td>\n",
       "    </tr>\n",
       "    <tr>\n",
       "      <th>8</th>\n",
       "      <td>100</td>\n",
       "      <td>0.057211</td>\n",
       "      <td>0.632715</td>\n",
       "      <td>72</td>\n",
       "    </tr>\n",
       "    <tr>\n",
       "      <th>9</th>\n",
       "      <td>100</td>\n",
       "      <td>0.061895</td>\n",
       "      <td>0.632711</td>\n",
       "      <td>100</td>\n",
       "    </tr>\n",
       "    <tr>\n",
       "      <th>10</th>\n",
       "      <td>100</td>\n",
       "      <td>0.066579</td>\n",
       "      <td>0.632710</td>\n",
       "      <td>100</td>\n",
       "    </tr>\n",
       "    <tr>\n",
       "      <th>11</th>\n",
       "      <td>200</td>\n",
       "      <td>0.061895</td>\n",
       "      <td>0.632699</td>\n",
       "      <td>200</td>\n",
       "    </tr>\n",
       "    <tr>\n",
       "      <th>12</th>\n",
       "      <td>200</td>\n",
       "      <td>0.066579</td>\n",
       "      <td>0.632698</td>\n",
       "      <td>200</td>\n",
       "    </tr>\n",
       "  </tbody>\n",
       "</table>\n",
       "</div>"
      ],
      "text/plain": [
       "    iters       eta       mse  finals\n",
       "0      10  0.010368  0.670361      10\n",
       "1      10  0.015053  0.633300      10\n",
       "2      10  0.019737  0.632727      10\n",
       "3      10  0.024421  0.632723       9\n",
       "4      10  0.038474  0.632723       5\n",
       "5      10  0.043158  0.632722       8\n",
       "6     100  0.047842  0.632722      11\n",
       "7     100  0.052526  0.632721      17\n",
       "8     100  0.057211  0.632715      72\n",
       "9     100  0.061895  0.632711     100\n",
       "10    100  0.066579  0.632710     100\n",
       "11    200  0.061895  0.632699     200\n",
       "12    200  0.066579  0.632698     200"
      ]
     },
     "execution_count": 67,
     "metadata": {},
     "output_type": "execute_result"
    }
   ],
   "source": [
    "params_df"
   ]
  },
  {
   "cell_type": "code",
   "execution_count": 77,
   "metadata": {
    "ExecuteTime": {
     "end_time": "2019-10-15T00:34:16.316040Z",
     "start_time": "2019-10-15T00:34:16.029751Z"
    }
   },
   "outputs": [
    {
     "data": {
      "image/png": "[encoded data removed]",
      "text/plain": [
       "<Figure size 720x720 with 1 Axes>"
      ]
     },
     "metadata": {
      "needs_background": "light"
     },
     "output_type": "display_data"
    }
   ],
   "source": [
    "plt.figure(figsize=(10, 10))\n",
    "sns.scatterplot(x='eta', y='mse', hue='finals',data=params_df, palette=sns.color_palette(\"CMRmap\", n_colors=9))\n",
    "plt.title(\"Best params\")\n",
    "plt.xlabel(\"Eta*1000\")\n",
    "plt.show()"
   ]
  },
  {
   "cell_type": "markdown",
   "metadata": {},
   "source": [
    "Последние параметры в наборе дают лучший MSE для рассматриваемых параметров"
   ]
  },
  {
   "cell_type": "code",
   "execution_count": 78,
   "metadata": {
    "ExecuteTime": {
     "end_time": "2019-10-15T00:34:41.499682Z",
     "start_time": "2019-10-15T00:34:41.495885Z"
    }
   },
   "outputs": [
    {
     "data": {
      "text/plain": [
       "(200, 6.657894736842106e-05)"
      ]
     },
     "execution_count": 78,
     "metadata": {},
     "output_type": "execute_result"
    }
   ],
   "source": [
    "best_params[-1]"
   ]
  },
  {
   "cell_type": "code",
   "execution_count": 80,
   "metadata": {
    "ExecuteTime": {
     "end_time": "2019-10-15T00:35:47.610316Z",
     "start_time": "2019-10-15T00:35:47.607278Z"
    }
   },
   "outputs": [],
   "source": [
    "linreg_best_full = LinearReg(max_iter=best_params[-1][0], eta=best_params[-1][0], tolerance=1e-6)"
   ]
  },
  {
   "cell_type": "markdown",
   "metadata": {},
   "source": [
    "### Для стохастики:"
   ]
  },
  {
   "cell_type": "code",
   "execution_count": 103,
   "metadata": {
    "ExecuteTime": {
     "end_time": "2019-10-15T00:47:28.901461Z",
     "start_time": "2019-10-15T00:47:28.898963Z"
    }
   },
   "outputs": [],
   "source": [
    "etas = np.linspace(1e-6, 1e-5, 10)\n",
    "max_iters =  [100, 200]"
   ]
  },
  {
   "cell_type": "code",
   "execution_count": 104,
   "metadata": {
    "ExecuteTime": {
     "end_time": "2019-10-15T00:48:55.841030Z",
     "start_time": "2019-10-15T00:47:29.440076Z"
    },
    "scrolled": true
   },
   "outputs": [
    {
     "name": "stdout",
     "output_type": "stream",
     "text": [
      "Params 100 1e-06\n",
      "MSE 1.0718470898872299\n",
      "Params 100 2e-06\n",
      "MSE 0.6337926919955083\n",
      "Params 100 3e-06\n",
      "MSE 0.6612580242523544\n",
      "Params 100 4e-06\n",
      "MSE 0.6579541941780388\n",
      "Params 100 4.9999999999999996e-06\n",
      "MSE 0.6390275475040476\n",
      "Params 100 5.999999999999999e-06\n",
      "MSE 0.6813998247119524\n",
      "Params 100 7e-06\n",
      "MSE 0.6374795352280961\n",
      "Params 100 8e-06\n",
      "MSE 0.6476546768718958\n",
      "Params 100 9e-06\n",
      "MSE 1.3797756259937193\n",
      "Params 100 1e-05\n",
      "MSE 0.6745895059828234\n",
      "Params 200 1e-06\n",
      "MSE 0.6932251558254677\n",
      "Params 200 2e-06\n",
      "MSE 0.6475239323713867\n",
      "Params 200 3e-06\n",
      "MSE 0.639620809853136\n",
      "Params 200 4e-06\n",
      "MSE 0.7006873312741958\n",
      "Params 200 4.9999999999999996e-06\n",
      "MSE 0.7795262856651819\n",
      "Params 200 5.999999999999999e-06\n",
      "MSE 0.6515769720689769\n",
      "Params 200 7e-06\n",
      "MSE 0.639784393956002\n",
      "Params 200 8e-06\n",
      "MSE 0.7458477581357101\n",
      "Params 200 9e-06\n",
      "MSE 0.7947809966695926\n",
      "Params 200 1e-05\n",
      "MSE 0.6343939975185042\n"
     ]
    }
   ],
   "source": [
    "best_params = []\n",
    "params = []\n",
    "min_mse = -1\n",
    "best_mse = []\n",
    "mse_all = []\n",
    "finals = []\n",
    "best_finals = []\n",
    "for max_iter in max_iters:\n",
    "    for eta in etas:\n",
    "        linreg = LinearReg(max_iter=max_iter, eta=eta, gd_type='stohastic', tolerance=1e-6)\n",
    "        linreg.fit(x_v_train, y_v_train)\n",
    "        print(\"Params\", max_iter, eta)\n",
    "        pred = linreg.predict(x_v_test)\n",
    "        mse = mean_squared_error(y_v_test, pred)\n",
    "        print(\"MSE\", mse)\n",
    "        params.append((max_iter, eta))\n",
    "        mse_all.append(mse)\n",
    "        finals.append(linreg.final)\n",
    "        if min_mse != -1 and mse < min_mse:\n",
    "            min_mse = mse\n",
    "            best_params.append((max_iter, eta))\n",
    "            best_mse.append(mse)\n",
    "            best_finals.append(linreg.final)\n",
    "        elif min_mse == -1:\n",
    "            min_mse = mse"
   ]
  },
  {
   "cell_type": "code",
   "execution_count": 105,
   "metadata": {
    "ExecuteTime": {
     "end_time": "2019-10-15T00:48:59.134629Z",
     "start_time": "2019-10-15T00:48:59.130682Z"
    }
   },
   "outputs": [],
   "source": [
    "params_df = pd.DataFrame(params, columns=['iters', 'eta'])"
   ]
  },
  {
   "cell_type": "code",
   "execution_count": 106,
   "metadata": {
    "ExecuteTime": {
     "end_time": "2019-10-15T00:48:59.580780Z",
     "start_time": "2019-10-15T00:48:59.577157Z"
    }
   },
   "outputs": [
    {
     "data": {
      "text/plain": [
       "[(100, 2e-06)]"
      ]
     },
     "execution_count": 106,
     "metadata": {},
     "output_type": "execute_result"
    }
   ],
   "source": [
    "best_params"
   ]
  },
  {
   "cell_type": "code",
   "execution_count": 107,
   "metadata": {
    "ExecuteTime": {
     "end_time": "2019-10-15T00:49:03.504929Z",
     "start_time": "2019-10-15T00:49:03.501334Z"
    }
   },
   "outputs": [
    {
     "data": {
      "text/plain": [
       "[0.6337926919955083]"
      ]
     },
     "execution_count": 107,
     "metadata": {},
     "output_type": "execute_result"
    }
   ],
   "source": [
    "best_mse"
   ]
  },
  {
   "cell_type": "code",
   "execution_count": 108,
   "metadata": {
    "ExecuteTime": {
     "end_time": "2019-10-15T00:49:05.393593Z",
     "start_time": "2019-10-15T00:49:05.390300Z"
    }
   },
   "outputs": [],
   "source": [
    "params_df['mse'] = mse_all"
   ]
  },
  {
   "cell_type": "code",
   "execution_count": 109,
   "metadata": {
    "ExecuteTime": {
     "end_time": "2019-10-15T00:49:06.046094Z",
     "start_time": "2019-10-15T00:49:06.043134Z"
    }
   },
   "outputs": [],
   "source": [
    "params_df['eta'] *= 100"
   ]
  },
  {
   "cell_type": "code",
   "execution_count": 117,
   "metadata": {
    "ExecuteTime": {
     "end_time": "2019-10-15T00:53:37.406440Z",
     "start_time": "2019-10-15T00:53:37.124528Z"
    }
   },
   "outputs": [
    {
     "data": {
      "image/png": "[encoded data removed]",
      "text/plain": [
       "<Figure size 720x720 with 1 Axes>"
      ]
     },
     "metadata": {
      "needs_background": "light"
     },
     "output_type": "display_data"
    }
   ],
   "source": [
    "plt.figure(figsize=(10, 10))\n",
    "sns.lineplot(x='eta', y='mse', hue='iters',data=params_df, palette=['r', 'blue'])\n",
    "plt.title(\"Bad params\")\n",
    "plt.xlabel(\"Eta*100\")\n",
    "plt.show()"
   ]
  },
  {
   "cell_type": "code",
   "execution_count": 118,
   "metadata": {
    "ExecuteTime": {
     "end_time": "2019-10-15T00:53:53.701861Z",
     "start_time": "2019-10-15T00:53:53.698754Z"
    }
   },
   "outputs": [],
   "source": [
    "params_df['finals'] = finals"
   ]
  },
  {
   "cell_type": "code",
   "execution_count": 120,
   "metadata": {
    "ExecuteTime": {
     "end_time": "2019-10-15T00:54:12.123970Z",
     "start_time": "2019-10-15T00:54:11.677789Z"
    }
   },
   "outputs": [
    {
     "data": {
      "image/png": "[encoded data removed]",
      "text/plain": [
       "<Figure size 720x720 with 1 Axes>"
      ]
     },
     "metadata": {
      "needs_background": "light"
     },
     "output_type": "display_data"
    }
   ],
   "source": [
    "plt.figure(figsize=(10, 10))\n",
    "sns.lineplot(x='eta', y='mse', hue='finals',data=params_df)\n",
    "plt.title(\"Bad params\")\n",
    "plt.xlabel(\"Eta*100\")\n",
    "plt.show()"
   ]
  },
  {
   "cell_type": "code",
   "execution_count": 116,
   "metadata": {
    "ExecuteTime": {
     "end_time": "2019-10-15T00:53:01.429763Z",
     "start_time": "2019-10-15T00:53:01.427379Z"
    }
   },
   "outputs": [],
   "source": [
    "linreg_sgd_best = LinearReg(gd_type='stohastic', max_iter=100, eta = 2e-6, tolerance=1e-6)"
   ]
  },
  {
   "cell_type": "markdown",
   "metadata": {},
   "source": [
    "### Momentum"
   ]
  },
  {
   "cell_type": "code",
   "execution_count": 180,
   "metadata": {
    "ExecuteTime": {
     "end_time": "2019-10-15T01:16:26.316826Z",
     "start_time": "2019-10-15T01:16:26.313415Z"
    }
   },
   "outputs": [],
   "source": [
    "etas = np.linspace(1e-6, 1e-5, 10)\n",
    "max_iters =  [10, 100, 200]\n",
    "alphas = np.linspace(0.01, 0.1, 10)"
   ]
  },
  {
   "cell_type": "code",
   "execution_count": 182,
   "metadata": {
    "ExecuteTime": {
     "end_time": "2019-10-15T01:31:01.565154Z",
     "start_time": "2019-10-15T01:16:38.475441Z"
    },
    "scrolled": true
   },
   "outputs": [
    {
     "name": "stdout",
     "output_type": "stream",
     "text": [
      "Params 10 1e-06 0.01\n",
      "MSE 23.942141486272323\n",
      "Params 10 1e-06 0.020000000000000004\n",
      "MSE 23.811892543584374\n",
      "Params 10 1e-06 0.030000000000000006\n",
      "MSE 23.67982392932685\n",
      "Params 10 1e-06 0.04000000000000001\n",
      "MSE 23.545898154322714\n",
      "Params 10 1e-06 0.05000000000000001\n",
      "MSE 23.41007673998696\n",
      "Params 10 1e-06 0.06000000000000001\n",
      "MSE 23.27232018890963\n",
      "Params 10 1e-06 0.07\n",
      "MSE 23.132587954717195\n",
      "Params 10 1e-06 0.08\n",
      "MSE 22.990838411235273\n",
      "Params 10 1e-06 0.09000000000000001\n",
      "MSE 22.84702882098508\n",
      "Params 10 1e-06 0.1\n",
      "MSE 22.70111530305568\n",
      "Params 10 2e-06 0.01\n",
      "MSE 13.392570151428417\n",
      "Params 10 2e-06 0.020000000000000004\n",
      "MSE 13.241339964862135\n",
      "Params 10 2e-06 0.030000000000000006\n",
      "MSE 13.088729548594616\n",
      "Params 10 2e-06 0.04000000000000001\n",
      "MSE 12.934726356164502\n",
      "Params 10 2e-06 0.05000000000000001\n",
      "MSE 12.77931801477213\n",
      "Params 10 2e-06 0.06000000000000001\n",
      "MSE 12.62249235455495\n",
      "Params 10 2e-06 0.07\n",
      "MSE 12.464237440513124\n",
      "Params 10 2e-06 0.08\n",
      "MSE 12.304541607337093\n",
      "Params 10 2e-06 0.09000000000000001\n",
      "MSE 12.143393497416328\n",
      "Params 10 2e-06 0.1\n",
      "MSE 11.980782102340237\n",
      "Params 10 3e-06 0.01\n",
      "MSE 7.485527309210957\n",
      "Params 10 3e-06 0.020000000000000004\n",
      "MSE 7.356110260470088\n",
      "Params 10 3e-06 0.030000000000000006\n",
      "MSE 7.226222875452262\n",
      "Params 10 3e-06 0.04000000000000001\n",
      "MSE 7.095879324510814\n",
      "Params 10 3e-06 0.05000000000000001\n",
      "MSE 6.965094780889341\n",
      "Params 10 3e-06 0.06000000000000001\n",
      "MSE 6.8338854772400355\n",
      "Params 10 3e-06 0.07\n",
      "MSE 6.702268765664951\n",
      "Params 10 3e-06 0.08\n",
      "MSE 6.570263181555125\n",
      "Params 10 3e-06 0.09000000000000001\n",
      "MSE 6.437888511531212\n",
      "Params 10 3e-06 0.1\n",
      "MSE 6.305165865822263\n",
      "Params 10 4e-06 0.01\n",
      "MSE 4.238920322249176\n",
      "Params 10 4e-06 0.020000000000000004\n",
      "MSE 4.142291997705153\n",
      "Params 10 4e-06 0.030000000000000006\n",
      "MSE 4.04591520579005\n",
      "Params 10 4e-06 0.04000000000000001\n",
      "MSE 3.949816572103796\n",
      "Params 10 4e-06 0.05000000000000001\n",
      "MSE 3.8540238062784598\n",
      "Params 10 4e-06 0.06000000000000001\n",
      "MSE 3.7585657454587675\n",
      "Params 10 4e-06 0.07\n",
      "MSE 3.6634723997780627\n",
      "Params 10 4e-06 0.08\n",
      "MSE 3.5687749999639187\n",
      "Params 10 4e-06 0.09000000000000001\n",
      "MSE 3.4745060472245903\n",
      "Params 10 4e-06 0.1\n",
      "MSE 3.3806993655871937\n",
      "Params 10 4.9999999999999996e-06 0.01\n",
      "MSE 2.489595998649035\n",
      "Params 10 4.9999999999999996e-06 0.020000000000000004\n",
      "MSE 2.4232933179800176\n",
      "Params 10 4.9999999999999996e-06 0.030000000000000006\n",
      "MSE 2.3576337131148595\n",
      "Params 10 4.9999999999999996e-06 0.04000000000000001\n",
      "MSE 2.292643382752191\n",
      "Params 10 4.9999999999999996e-06 0.05000000000000001\n",
      "MSE 2.228349215681179\n",
      "Params 10 4.9999999999999996e-06 0.06000000000000001\n",
      "MSE 2.1647788033210906\n",
      "Params 10 4.9999999999999996e-06 0.07\n",
      "MSE 2.101960452050073\n",
      "Params 10 4.9999999999999996e-06 0.08\n",
      "MSE 2.0399231952914585\n",
      "Params 10 4.9999999999999996e-06 0.09000000000000001\n",
      "MSE 1.978696805329517\n",
      "Params 10 4.9999999999999996e-06 0.1\n",
      "MSE 1.9183118048321823\n",
      "Params 10 5.999999999999999e-06 0.01\n",
      "MSE 1.566829312832606\n",
      "Params 10 5.999999999999999e-06 0.020000000000000004\n",
      "MSE 1.5240790993698279\n",
      "Params 10 5.999999999999999e-06 0.030000000000000006\n",
      "MSE 1.4820893272820146\n",
      "Params 10 5.999999999999999e-06 0.04000000000000001\n",
      "MSE 1.440878794836369\n",
      "Params 10 5.999999999999999e-06 0.05000000000000001\n",
      "MSE 1.4004664752157774\n",
      "Params 10 5.999999999999999e-06 0.06000000000000001\n",
      "MSE 1.3608715010777188\n",
      "Params 10 5.999999999999999e-06 0.07\n",
      "MSE 1.3221131473526637\n",
      "Params 10 5.999999999999999e-06 0.08\n",
      "MSE 1.2842108121553752\n",
      "Params 10 5.999999999999999e-06 0.09000000000000001\n",
      "MSE 1.2471839956800475\n",
      "Params 10 5.999999999999999e-06 0.1\n",
      "MSE 1.2110522769490037\n",
      "Params 10 7e-06 0.01\n",
      "MSE 1.0910234637061182\n",
      "Params 10 7e-06 0.020000000000000004\n",
      "MSE 1.0648346927757344\n",
      "Params 10 7e-06 0.030000000000000006\n",
      "MSE 1.0393537777222488\n",
      "Params 10 7e-06 0.04000000000000001\n",
      "MSE 1.0145903781490313\n",
      "Params 10 7e-06 0.05000000000000001\n",
      "MSE 0.990553922274046\n",
      "Params 10 7e-06 0.06000000000000001\n",
      "MSE 0.9672535767311192\n",
      "Params 10 7e-06 0.07\n",
      "MSE 0.9446982142023432\n",
      "Params 10 7e-06 0.08\n",
      "MSE 0.9228963787575509\n",
      "Params 10 7e-06 0.09000000000000001\n",
      "MSE 0.9018562487766429\n",
      "Params 10 7e-06 0.1\n",
      "MSE 0.8815855973323198\n",
      "Params 10 8e-06 0.01\n",
      "MSE 0.8516115330255306\n",
      "Params 10 8e-06 0.020000000000000004\n",
      "MSE 0.8362811393310579\n",
      "Params 10 8e-06 0.030000000000000006\n",
      "MSE 0.8215273377868935\n",
      "Params 10 8e-06 0.04000000000000001\n",
      "MSE 0.8073520487368584\n",
      "Params 10 8e-06 0.05000000000000001\n",
      "MSE 0.793756749079303\n",
      "Params 10 8e-06 0.06000000000000001\n",
      "MSE 0.7807424413250456\n",
      "Params 10 8e-06 0.07\n",
      "MSE 0.7683096210420735\n",
      "Params 10 8e-06 0.08\n",
      "MSE 0.7564582426367666\n",
      "Params 10 8e-06 0.09000000000000001\n",
      "MSE 0.7451876834297406\n",
      "Params 10 8e-06 0.1\n",
      "MSE 0.7344967059956714\n",
      "Params 10 9e-06 0.01\n",
      "MSE 0.7342790250233657\n",
      "Params 10 9e-06 0.020000000000000004\n",
      "MSE 0.7256792696139288\n",
      "Params 10 9e-06 0.030000000000000006\n",
      "MSE 0.7175074303669806\n",
      "Params 10 9e-06 0.04000000000000001\n",
      "MSE 0.7097603083031337\n",
      "Params 10 9e-06 0.05000000000000001\n",
      "MSE 0.7024342285978648\n",
      "Params 10 9e-06 0.06000000000000001\n",
      "MSE 0.6955250184158024\n",
      "Params 10 9e-06 0.07\n",
      "MSE 0.689027984166679\n",
      "Params 10 9e-06 0.08\n",
      "MSE 0.6829378882308617\n",
      "Params 10 9e-06 0.09000000000000001\n",
      "MSE 0.677248925220555\n",
      "Params 10 9e-06 0.1\n",
      "MSE 0.6719546978650917\n",
      "Params 10 1e-05 0.01\n",
      "MSE 0.6783893256202587\n",
      "Params 10 1e-05 0.020000000000000004\n",
      "MSE 0.6737615839242357\n",
      "Params 10 1e-05 0.030000000000000006\n",
      "MSE 0.6694288171579246\n",
      "Params 10 1e-05 0.04000000000000001\n",
      "MSE 0.6653852984509745\n",
      "Params 10 1e-05 0.05000000000000001\n",
      "MSE 0.6616249113917716\n",
      "Params 10 1e-05 0.06000000000000001\n",
      "MSE 0.6581411402840708\n",
      "Params 10 1e-05 0.07\n",
      "MSE 0.6549270608471425\n",
      "Params 10 1e-05 0.08\n",
      "MSE 0.6519753314867845\n",
      "Params 10 1e-05 0.09000000000000001\n",
      "MSE 0.6492781852897018\n",
      "Params 10 1e-05 0.1\n",
      "MSE 0.646827422924\n",
      "Params 100 1e-06 0.01\n",
      "MSE 0.7532220935632512\n",
      "Params 100 1e-06 0.020000000000000004\n",
      "MSE 0.7460052821834945\n",
      "Params 100 1e-06 0.030000000000000006\n",
      "MSE 0.739076233425374\n",
      "Params 100 1e-06 0.04000000000000001\n",
      "MSE 0.7324309286700307\n",
      "Params 100 1e-06 0.05000000000000001\n",
      "MSE 0.7260651517803833\n",
      "Params 100 1e-06 0.06000000000000001\n",
      "MSE 0.7199744900317399\n",
      "Params 100 1e-06 0.07\n",
      "MSE 0.7141543355417759\n",
      "Params 100 1e-06 0.08\n",
      "MSE 0.7085998872301871\n",
      "Params 100 1e-06 0.09000000000000001\n",
      "MSE 0.7033061533384919\n",
      "Params 100 1e-06 0.1\n",
      "MSE 0.6982679545405047\n",
      "Params 100 2e-06 0.01\n",
      "MSE 0.6330274450290121\n",
      "Params 100 2e-06 0.020000000000000004\n",
      "MSE 0.6329908308125555\n",
      "Params 100 2e-06 0.030000000000000006\n",
      "MSE 0.6329579527615921\n",
      "Params 100 2e-06 0.04000000000000001\n",
      "MSE 0.6329285085780534\n",
      "Params 100 2e-06 0.05000000000000001\n",
      "MSE 0.6329022125261684\n",
      "Params 100 2e-06 0.06000000000000001\n",
      "MSE 0.6328787951512704\n",
      "Params 100 2e-06 0.07\n",
      "MSE 0.6328580029648414\n",
      "Params 100 2e-06 0.08\n",
      "MSE 0.632839598096807\n",
      "Params 100 2e-06 0.09000000000000001\n",
      "MSE 0.6328233579162849\n",
      "Params 100 2e-06 0.1\n",
      "MSE 0.632809074622211\n",
      "Params 100 3e-06 0.01\n",
      "MSE 0.632738362660326\n",
      "Params 100 3e-06 0.020000000000000004\n",
      "MSE 0.6327384893848559\n",
      "Params 100 3e-06 0.030000000000000006\n",
      "MSE 0.6327386153669224\n",
      "Params 100 3e-06 0.04000000000000001\n",
      "MSE 0.6327362438515034\n",
      "Params 100 3e-06 0.05000000000000001\n",
      "MSE 0.6327363194898827\n",
      "Params 100 3e-06 0.06000000000000001\n",
      "MSE 0.6327363925352855\n",
      "Params 100 3e-06 0.07\n",
      "MSE 0.632736462617209\n",
      "Params 100 3e-06 0.08\n",
      "MSE 0.6327365293296707\n",
      "Params 100 3e-06 0.09000000000000001\n",
      "MSE 0.6327365922280149\n",
      "Params 100 3e-06 0.1\n",
      "MSE 0.6327343359365336\n",
      "Params 100 4e-06 0.01\n",
      "MSE 0.632731289605476\n",
      "Params 100 4e-06 0.020000000000000004\n",
      "MSE 0.6327317388850899\n",
      "Params 100 4e-06 0.030000000000000006\n",
      "MSE 0.6327322201912083\n",
      "Params 100 4e-06 0.04000000000000001\n",
      "MSE 0.6327307126430235\n",
      "Params 100 4e-06 0.05000000000000001\n",
      "MSE 0.6327311268750324\n",
      "Params 100 4e-06 0.06000000000000001\n",
      "MSE 0.632731570057724\n",
      "Params 100 4e-06 0.07\n",
      "MSE 0.6327300991099768\n",
      "Params 100 4e-06 0.08\n",
      "MSE 0.6327304738773296\n",
      "Params 100 4e-06 0.09000000000000001\n",
      "MSE 0.6327308739297243\n",
      "Params 100 4e-06 0.1\n",
      "MSE 0.6327294499115068\n",
      "Params 100 4.9999999999999996e-06 0.01\n",
      "MSE 0.6327281945513598\n",
      "Params 100 4.9999999999999996e-06 0.020000000000000004\n",
      "MSE 0.6327287426287118\n",
      "Params 100 4.9999999999999996e-06 0.030000000000000006\n",
      "MSE 0.6327277413378697\n",
      "Params 100 4.9999999999999996e-06 0.04000000000000001\n",
      "MSE 0.6327282426327614\n",
      "Params 100 4.9999999999999996e-06 0.05000000000000001\n",
      "MSE 0.6327288063581189\n",
      "Params 100 4.9999999999999996e-06 0.06000000000000001\n",
      "MSE 0.6327277459164677\n"
     ]
    },
    {
     "name": "stdout",
     "output_type": "stream",
     "text": [
      "Params 100 4.9999999999999996e-06 0.07\n",
      "MSE 0.6327282558012408\n",
      "Params 100 4.9999999999999996e-06 0.08\n",
      "MSE 0.6327272547088716\n",
      "Params 100 4.9999999999999996e-06 0.09000000000000001\n",
      "MSE 0.63272771023743\n",
      "Params 100 4.9999999999999996e-06 0.1\n",
      "MSE 0.6327267714952368\n",
      "Params 100 5.999999999999999e-06 0.01\n",
      "MSE 0.6327275245042998\n",
      "Params 100 5.999999999999999e-06 0.020000000000000004\n",
      "MSE 0.6327266947277617\n",
      "Params 100 5.999999999999999e-06 0.030000000000000006\n",
      "MSE 0.632727304436916\n",
      "Params 100 5.999999999999999e-06 0.04000000000000001\n",
      "MSE 0.6327264839476048\n",
      "Params 100 5.999999999999999e-06 0.05000000000000001\n",
      "MSE 0.6327270657163733\n",
      "Params 100 5.999999999999999e-06 0.06000000000000001\n",
      "MSE 0.6327262580629173\n",
      "Params 100 5.999999999999999e-06 0.07\n",
      "MSE 0.6327268079164928\n",
      "Params 100 5.999999999999999e-06 0.08\n",
      "MSE 0.6327260171060941\n",
      "Params 100 5.999999999999999e-06 0.09000000000000001\n",
      "MSE 0.63272653091183\n",
      "Params 100 5.999999999999999e-06 0.1\n",
      "MSE 0.6327257614361411\n",
      "Params 100 7e-06 0.01\n",
      "MSE 0.6327262632584629\n",
      "Params 100 7e-06 0.020000000000000004\n",
      "MSE 0.632725613377754\n",
      "Params 100 7e-06 0.030000000000000006\n",
      "MSE 0.6327262193939055\n",
      "Params 100 7e-06 0.04000000000000001\n",
      "MSE 0.6327255531227158\n",
      "Params 100 7e-06 0.05000000000000001\n",
      "MSE 0.6327249958942057\n",
      "Params 100 7e-06 0.06000000000000001\n",
      "MSE 0.6327254741491116\n",
      "Params 100 7e-06 0.07\n",
      "MSE 0.6327249093801094\n",
      "Params 100 7e-06 0.08\n",
      "MSE 0.6327253740065873\n",
      "Params 100 7e-06 0.09000000000000001\n",
      "MSE 0.632724804726406\n",
      "Params 100 7e-06 0.1\n",
      "MSE 0.632725250197872\n",
      "Params 100 8e-06 0.01\n",
      "MSE 0.6327247793452233\n",
      "Params 100 8e-06 0.020000000000000004\n",
      "MSE 0.6327253303221185\n",
      "Params 100 8e-06 0.030000000000000006\n",
      "MSE 0.6327248088915074\n",
      "Params 100 8e-06 0.04000000000000001\n",
      "MSE 0.6327253773694617\n",
      "Params 100 8e-06 0.05000000000000001\n",
      "MSE 0.6327248248120385\n",
      "Params 100 8e-06 0.06000000000000001\n",
      "MSE 0.6327243690101403\n",
      "Params 100 8e-06 0.07\n",
      "MSE 0.6327248231281991\n",
      "Params 100 8e-06 0.08\n",
      "MSE 0.6327243464298128\n",
      "Params 100 8e-06 0.09000000000000001\n",
      "MSE 0.6327247991051695\n",
      "Params 100 8e-06 0.1\n",
      "MSE 0.632724303506413\n",
      "Params 100 9e-06 0.01\n",
      "MSE 0.6327245735930406\n",
      "Params 100 9e-06 0.020000000000000004\n",
      "MSE 0.6327241815122085\n",
      "Params 100 9e-06 0.030000000000000006\n",
      "MSE 0.6327246743195756\n",
      "Params 100 9e-06 0.04000000000000001\n",
      "MSE 0.6327242448101741\n",
      "Params 100 9e-06 0.05000000000000001\n",
      "MSE 0.6327247669349559\n",
      "Params 100 9e-06 0.06000000000000001\n",
      "MSE 0.6327242973086049\n",
      "Params 100 9e-06 0.07\n",
      "MSE 0.6327239161718601\n",
      "Params 100 9e-06 0.08\n",
      "MSE 0.6327243334090153\n",
      "Params 100 9e-06 0.09000000000000001\n",
      "MSE 0.6327239233780148\n",
      "Params 100 9e-06 0.1\n",
      "MSE 0.6327243458132932\n",
      "Params 100 1e-05 0.01\n",
      "MSE 0.6327241908278735\n",
      "Params 100 1e-05 0.020000000000000004\n",
      "MSE 0.6327238557889678\n",
      "Params 100 1e-05 0.030000000000000006\n",
      "MSE 0.6327243256755519\n",
      "Params 100 1e-05 0.04000000000000001\n",
      "MSE 0.6327239461457723\n",
      "Params 100 1e-05 0.05000000000000001\n",
      "MSE 0.63272445934581\n",
      "Params 100 1e-05 0.06000000000000001\n",
      "MSE 0.6327240297501826\n",
      "Params 100 1e-05 0.07\n",
      "MSE 0.6327236856944546\n",
      "Params 100 1e-05 0.08\n",
      "MSE 0.6327240993533322\n",
      "Params 100 1e-05 0.09000000000000001\n",
      "MSE 0.6327237171298885\n",
      "Params 100 1e-05 0.1\n",
      "MSE 0.6327241444548106\n",
      "Params 200 1e-06 0.01\n",
      "MSE 0.6330857410619615\n",
      "Params 200 1e-06 0.020000000000000004\n",
      "MSE 0.633044303912311\n",
      "Params 200 1e-06 0.030000000000000006\n",
      "MSE 0.6330068877703451\n",
      "Params 200 1e-06 0.04000000000000001\n",
      "MSE 0.6329731828936523\n",
      "Params 200 1e-06 0.05000000000000001\n",
      "MSE 0.6329428957080325\n",
      "Params 200 1e-06 0.06000000000000001\n",
      "MSE 0.6329157485501684\n",
      "Params 200 1e-06 0.07\n",
      "MSE 0.6328914793791766\n",
      "Params 200 1e-06 0.08\n",
      "MSE 0.6328698414579572\n",
      "Params 200 1e-06 0.09000000000000001\n",
      "MSE 0.6328506030054624\n",
      "Params 200 1e-06 0.1\n",
      "MSE 0.6328335468211497\n",
      "Params 200 2e-06 0.01\n",
      "MSE 0.6327543323314864\n",
      "Params 200 2e-06 0.020000000000000004\n",
      "MSE 0.6327568373933206\n",
      "Params 200 2e-06 0.030000000000000006\n",
      "MSE 0.6327556632289404\n",
      "Params 200 2e-06 0.04000000000000001\n",
      "MSE 0.6327544993870164\n",
      "Params 200 2e-06 0.05000000000000001\n",
      "MSE 0.6327533464615653\n",
      "Params 200 2e-06 0.06000000000000001\n",
      "MSE 0.6327522050615909\n",
      "Params 200 2e-06 0.07\n",
      "MSE 0.63275107581083\n",
      "Params 200 2e-06 0.08\n",
      "MSE 0.63274995934741\n",
      "Params 200 2e-06 0.09000000000000001\n",
      "MSE 0.632752201220269\n",
      "Params 200 2e-06 0.1\n",
      "MSE 0.6327510105449742\n",
      "Params 200 3e-06 0.01\n",
      "MSE 0.632738362660326\n",
      "Params 200 3e-06 0.020000000000000004\n",
      "MSE 0.6327384893848559\n",
      "Params 200 3e-06 0.030000000000000006\n",
      "MSE 0.6327386153669224\n",
      "Params 200 3e-06 0.04000000000000001\n",
      "MSE 0.6327362438515034\n",
      "Params 200 3e-06 0.05000000000000001\n",
      "MSE 0.6327363194898827\n",
      "Params 200 3e-06 0.06000000000000001\n",
      "MSE 0.6327363925352855\n",
      "Params 200 3e-06 0.07\n",
      "MSE 0.632736462617209\n",
      "Params 200 3e-06 0.08\n",
      "MSE 0.6327365293296707\n",
      "Params 200 3e-06 0.09000000000000001\n",
      "MSE 0.6327365922280149\n",
      "Params 200 3e-06 0.1\n",
      "MSE 0.6327343359365336\n",
      "Params 200 4e-06 0.01\n",
      "MSE 0.632731289605476\n",
      "Params 200 4e-06 0.020000000000000004\n",
      "MSE 0.6327317388850899\n",
      "Params 200 4e-06 0.030000000000000006\n",
      "MSE 0.6327322201912083\n",
      "Params 200 4e-06 0.04000000000000001\n",
      "MSE 0.6327307126430235\n",
      "Params 200 4e-06 0.05000000000000001\n",
      "MSE 0.6327311268750324\n",
      "Params 200 4e-06 0.06000000000000001\n",
      "MSE 0.632731570057724\n",
      "Params 200 4e-06 0.07\n",
      "MSE 0.6327300991099768\n",
      "Params 200 4e-06 0.08\n",
      "MSE 0.6327304738773296\n",
      "Params 200 4e-06 0.09000000000000001\n",
      "MSE 0.6327308739297243\n",
      "Params 200 4e-06 0.1\n",
      "MSE 0.6327294499115068\n",
      "Params 200 4.9999999999999996e-06 0.01\n",
      "MSE 0.6327281945513598\n",
      "Params 200 4.9999999999999996e-06 0.020000000000000004\n",
      "MSE 0.6327287426287118\n",
      "Params 200 4.9999999999999996e-06 0.030000000000000006\n",
      "MSE 0.6327277413378697\n",
      "Params 200 4.9999999999999996e-06 0.04000000000000001\n",
      "MSE 0.6327282426327614\n",
      "Params 200 4.9999999999999996e-06 0.05000000000000001\n",
      "MSE 0.6327288063581189\n",
      "Params 200 4.9999999999999996e-06 0.06000000000000001\n",
      "MSE 0.6327277459164677\n",
      "Params 200 4.9999999999999996e-06 0.07\n",
      "MSE 0.6327282558012408\n",
      "Params 200 4.9999999999999996e-06 0.08\n",
      "MSE 0.6327272547088716\n",
      "Params 200 4.9999999999999996e-06 0.09000000000000001\n",
      "MSE 0.63272771023743\n",
      "Params 200 4.9999999999999996e-06 0.1\n",
      "MSE 0.6327267714952368\n",
      "Params 200 5.999999999999999e-06 0.01\n",
      "MSE 0.6327275245042998\n",
      "Params 200 5.999999999999999e-06 0.020000000000000004\n",
      "MSE 0.6327266947277617\n",
      "Params 200 5.999999999999999e-06 0.030000000000000006\n",
      "MSE 0.632727304436916\n",
      "Params 200 5.999999999999999e-06 0.04000000000000001\n",
      "MSE 0.6327264839476048\n",
      "Params 200 5.999999999999999e-06 0.05000000000000001\n",
      "MSE 0.6327270657163733\n",
      "Params 200 5.999999999999999e-06 0.06000000000000001\n",
      "MSE 0.6327262580629173\n",
      "Params 200 5.999999999999999e-06 0.07\n",
      "MSE 0.6327268079164928\n",
      "Params 200 5.999999999999999e-06 0.08\n",
      "MSE 0.6327260171060941\n",
      "Params 200 5.999999999999999e-06 0.09000000000000001\n",
      "MSE 0.63272653091183\n",
      "Params 200 5.999999999999999e-06 0.1\n",
      "MSE 0.6327257614361411\n",
      "Params 200 7e-06 0.01\n",
      "MSE 0.6327262632584629\n",
      "Params 200 7e-06 0.020000000000000004\n",
      "MSE 0.632725613377754\n",
      "Params 200 7e-06 0.030000000000000006\n",
      "MSE 0.6327262193939055\n",
      "Params 200 7e-06 0.04000000000000001\n",
      "MSE 0.6327255531227158\n",
      "Params 200 7e-06 0.05000000000000001\n",
      "MSE 0.6327249958942057\n",
      "Params 200 7e-06 0.06000000000000001\n",
      "MSE 0.6327254741491116\n",
      "Params 200 7e-06 0.07\n",
      "MSE 0.6327249093801094\n",
      "Params 200 7e-06 0.08\n",
      "MSE 0.6327253740065873\n",
      "Params 200 7e-06 0.09000000000000001\n",
      "MSE 0.632724804726406\n",
      "Params 200 7e-06 0.1\n",
      "MSE 0.632725250197872\n",
      "Params 200 8e-06 0.01\n",
      "MSE 0.6327247793452233\n",
      "Params 200 8e-06 0.020000000000000004\n",
      "MSE 0.6327253303221185\n",
      "Params 200 8e-06 0.030000000000000006\n",
      "MSE 0.6327248088915074\n",
      "Params 200 8e-06 0.04000000000000001\n",
      "MSE 0.6327253773694617\n",
      "Params 200 8e-06 0.05000000000000001\n",
      "MSE 0.6327248248120385\n",
      "Params 200 8e-06 0.06000000000000001\n",
      "MSE 0.6327243690101403\n",
      "Params 200 8e-06 0.07\n",
      "MSE 0.6327248231281991\n",
      "Params 200 8e-06 0.08\n",
      "MSE 0.6327243464298128\n",
      "Params 200 8e-06 0.09000000000000001\n",
      "MSE 0.6327247991051695\n",
      "Params 200 8e-06 0.1\n",
      "MSE 0.632724303506413\n",
      "Params 200 9e-06 0.01\n",
      "MSE 0.6327245735930406\n",
      "Params 200 9e-06 0.020000000000000004\n",
      "MSE 0.6327241815122085\n",
      "Params 200 9e-06 0.030000000000000006\n",
      "MSE 0.6327246743195756\n",
      "Params 200 9e-06 0.04000000000000001\n",
      "MSE 0.6327242448101741\n",
      "Params 200 9e-06 0.05000000000000001\n",
      "MSE 0.6327247669349559\n",
      "Params 200 9e-06 0.06000000000000001\n",
      "MSE 0.6327242973086049\n",
      "Params 200 9e-06 0.07\n",
      "MSE 0.6327239161718601\n",
      "Params 200 9e-06 0.08\n",
      "MSE 0.6327243334090153\n",
      "Params 200 9e-06 0.09000000000000001\n",
      "MSE 0.6327239233780148\n"
     ]
    },
    {
     "name": "stdout",
     "output_type": "stream",
     "text": [
      "Params 200 9e-06 0.1\n",
      "MSE 0.6327243458132932\n",
      "Params 200 1e-05 0.01\n",
      "MSE 0.6327241908278735\n",
      "Params 200 1e-05 0.020000000000000004\n",
      "MSE 0.6327238557889678\n",
      "Params 200 1e-05 0.030000000000000006\n",
      "MSE 0.6327243256755519\n",
      "Params 200 1e-05 0.04000000000000001\n",
      "MSE 0.6327239461457723\n",
      "Params 200 1e-05 0.05000000000000001\n",
      "MSE 0.63272445934581\n",
      "Params 200 1e-05 0.06000000000000001\n",
      "MSE 0.6327240297501826\n",
      "Params 200 1e-05 0.07\n",
      "MSE 0.6327236856944546\n",
      "Params 200 1e-05 0.08\n",
      "MSE 0.6327240993533322\n",
      "Params 200 1e-05 0.09000000000000001\n",
      "MSE 0.6327237171298885\n",
      "Params 200 1e-05 0.1\n",
      "MSE 0.6327241444548106\n"
     ]
    }
   ],
   "source": [
    "best_params = []\n",
    "params = []\n",
    "min_mse = -1\n",
    "best_mse = []\n",
    "mse_all = []\n",
    "finals = []\n",
    "best_finals = []\n",
    "for max_iter in max_iters:\n",
    "    for eta in etas:\n",
    "        for alpha in alphas:\n",
    "            linreg = LinearReg(max_iter=max_iter, eta=eta, gd_type='momentum', tolerance=1e-6, alpha=alpha)\n",
    "            linreg.fit(x_v_train, y_v_train)\n",
    "            print(\"Params\", max_iter, eta, alpha)\n",
    "            pred = linreg.predict(x_v_test)\n",
    "            mse = mean_squared_error(y_v_test, pred)\n",
    "            print(\"MSE\", mse)\n",
    "            params.append((max_iter, eta, alpha))\n",
    "            mse_all.append(mse)\n",
    "            finals.append(linreg.final)\n",
    "            if min_mse != -1 and mse < min_mse:\n",
    "                min_mse = mse\n",
    "                best_params.append((max_iter, eta, alpha))\n",
    "                best_mse.append(mse)\n",
    "                best_finals.append(linreg.final)\n",
    "            elif min_mse == -1:\n",
    "                min_mse = mse"
   ]
  },
  {
   "cell_type": "code",
   "execution_count": 183,
   "metadata": {
    "ExecuteTime": {
     "end_time": "2019-10-15T01:33:46.495603Z",
     "start_time": "2019-10-15T01:33:46.491648Z"
    }
   },
   "outputs": [],
   "source": [
    "params_df = pd.DataFrame(params, columns=['iters', 'eta', 'alpha'])"
   ]
  },
  {
   "cell_type": "code",
   "execution_count": 184,
   "metadata": {
    "ExecuteTime": {
     "end_time": "2019-10-15T01:33:47.142032Z",
     "start_time": "2019-10-15T01:33:47.131970Z"
    }
   },
   "outputs": [
    {
     "data": {
      "text/plain": [
       "[(10, 1e-06, 0.020000000000000004),\n",
       " (10, 1e-06, 0.030000000000000006),\n",
       " (10, 1e-06, 0.04000000000000001),\n",
       " (10, 1e-06, 0.05000000000000001),\n",
       " (10, 1e-06, 0.06000000000000001),\n",
       " (10, 1e-06, 0.07),\n",
       " (10, 1e-06, 0.08),\n",
       " (10, 1e-06, 0.09000000000000001),\n",
       " (10, 1e-06, 0.1),\n",
       " (10, 2e-06, 0.01),\n",
       " (10, 2e-06, 0.020000000000000004),\n",
       " (10, 2e-06, 0.030000000000000006),\n",
       " (10, 2e-06, 0.04000000000000001),\n",
       " (10, 2e-06, 0.05000000000000001),\n",
       " (10, 2e-06, 0.06000000000000001),\n",
       " (10, 2e-06, 0.07),\n",
       " (10, 2e-06, 0.08),\n",
       " (10, 2e-06, 0.09000000000000001),\n",
       " (10, 2e-06, 0.1),\n",
       " (10, 3e-06, 0.01),\n",
       " (10, 3e-06, 0.020000000000000004),\n",
       " (10, 3e-06, 0.030000000000000006),\n",
       " (10, 3e-06, 0.04000000000000001),\n",
       " (10, 3e-06, 0.05000000000000001),\n",
       " (10, 3e-06, 0.06000000000000001),\n",
       " (10, 3e-06, 0.07),\n",
       " (10, 3e-06, 0.08),\n",
       " (10, 3e-06, 0.09000000000000001),\n",
       " (10, 3e-06, 0.1),\n",
       " (10, 4e-06, 0.01),\n",
       " (10, 4e-06, 0.020000000000000004),\n",
       " (10, 4e-06, 0.030000000000000006),\n",
       " (10, 4e-06, 0.04000000000000001),\n",
       " (10, 4e-06, 0.05000000000000001),\n",
       " (10, 4e-06, 0.06000000000000001),\n",
       " (10, 4e-06, 0.07),\n",
       " (10, 4e-06, 0.08),\n",
       " (10, 4e-06, 0.09000000000000001),\n",
       " (10, 4e-06, 0.1),\n",
       " (10, 4.9999999999999996e-06, 0.01),\n",
       " (10, 4.9999999999999996e-06, 0.020000000000000004),\n",
       " (10, 4.9999999999999996e-06, 0.030000000000000006),\n",
       " (10, 4.9999999999999996e-06, 0.04000000000000001),\n",
       " (10, 4.9999999999999996e-06, 0.05000000000000001),\n",
       " (10, 4.9999999999999996e-06, 0.06000000000000001),\n",
       " (10, 4.9999999999999996e-06, 0.07),\n",
       " (10, 4.9999999999999996e-06, 0.08),\n",
       " (10, 4.9999999999999996e-06, 0.09000000000000001),\n",
       " (10, 4.9999999999999996e-06, 0.1),\n",
       " (10, 5.999999999999999e-06, 0.01),\n",
       " (10, 5.999999999999999e-06, 0.020000000000000004),\n",
       " (10, 5.999999999999999e-06, 0.030000000000000006),\n",
       " (10, 5.999999999999999e-06, 0.04000000000000001),\n",
       " (10, 5.999999999999999e-06, 0.05000000000000001),\n",
       " (10, 5.999999999999999e-06, 0.06000000000000001),\n",
       " (10, 5.999999999999999e-06, 0.07),\n",
       " (10, 5.999999999999999e-06, 0.08),\n",
       " (10, 5.999999999999999e-06, 0.09000000000000001),\n",
       " (10, 5.999999999999999e-06, 0.1),\n",
       " (10, 7e-06, 0.01),\n",
       " (10, 7e-06, 0.020000000000000004),\n",
       " (10, 7e-06, 0.030000000000000006),\n",
       " (10, 7e-06, 0.04000000000000001),\n",
       " (10, 7e-06, 0.05000000000000001),\n",
       " (10, 7e-06, 0.06000000000000001),\n",
       " (10, 7e-06, 0.07),\n",
       " (10, 7e-06, 0.08),\n",
       " (10, 7e-06, 0.09000000000000001),\n",
       " (10, 7e-06, 0.1),\n",
       " (10, 8e-06, 0.01),\n",
       " (10, 8e-06, 0.020000000000000004),\n",
       " (10, 8e-06, 0.030000000000000006),\n",
       " (10, 8e-06, 0.04000000000000001),\n",
       " (10, 8e-06, 0.05000000000000001),\n",
       " (10, 8e-06, 0.06000000000000001),\n",
       " (10, 8e-06, 0.07),\n",
       " (10, 8e-06, 0.08),\n",
       " (10, 8e-06, 0.09000000000000001),\n",
       " (10, 8e-06, 0.1),\n",
       " (10, 9e-06, 0.01),\n",
       " (10, 9e-06, 0.020000000000000004),\n",
       " (10, 9e-06, 0.030000000000000006),\n",
       " (10, 9e-06, 0.04000000000000001),\n",
       " (10, 9e-06, 0.05000000000000001),\n",
       " (10, 9e-06, 0.06000000000000001),\n",
       " (10, 9e-06, 0.07),\n",
       " (10, 9e-06, 0.08),\n",
       " (10, 9e-06, 0.09000000000000001),\n",
       " (10, 9e-06, 0.1),\n",
       " (10, 1e-05, 0.030000000000000006),\n",
       " (10, 1e-05, 0.04000000000000001),\n",
       " (10, 1e-05, 0.05000000000000001),\n",
       " (10, 1e-05, 0.06000000000000001),\n",
       " (10, 1e-05, 0.07),\n",
       " (10, 1e-05, 0.08),\n",
       " (10, 1e-05, 0.09000000000000001),\n",
       " (10, 1e-05, 0.1),\n",
       " (100, 2e-06, 0.01),\n",
       " (100, 2e-06, 0.020000000000000004),\n",
       " (100, 2e-06, 0.030000000000000006),\n",
       " (100, 2e-06, 0.04000000000000001),\n",
       " (100, 2e-06, 0.05000000000000001),\n",
       " (100, 2e-06, 0.06000000000000001),\n",
       " (100, 2e-06, 0.07),\n",
       " (100, 2e-06, 0.08),\n",
       " (100, 2e-06, 0.09000000000000001),\n",
       " (100, 2e-06, 0.1),\n",
       " (100, 3e-06, 0.01),\n",
       " (100, 3e-06, 0.04000000000000001),\n",
       " (100, 3e-06, 0.1),\n",
       " (100, 4e-06, 0.01),\n",
       " (100, 4e-06, 0.04000000000000001),\n",
       " (100, 4e-06, 0.07),\n",
       " (100, 4e-06, 0.1),\n",
       " (100, 4.9999999999999996e-06, 0.01),\n",
       " (100, 4.9999999999999996e-06, 0.030000000000000006),\n",
       " (100, 4.9999999999999996e-06, 0.08),\n",
       " (100, 4.9999999999999996e-06, 0.1),\n",
       " (100, 5.999999999999999e-06, 0.020000000000000004),\n",
       " (100, 5.999999999999999e-06, 0.04000000000000001),\n",
       " (100, 5.999999999999999e-06, 0.06000000000000001),\n",
       " (100, 5.999999999999999e-06, 0.08),\n",
       " (100, 5.999999999999999e-06, 0.1),\n",
       " (100, 7e-06, 0.020000000000000004),\n",
       " (100, 7e-06, 0.04000000000000001),\n",
       " (100, 7e-06, 0.05000000000000001),\n",
       " (100, 7e-06, 0.07),\n",
       " (100, 7e-06, 0.09000000000000001),\n",
       " (100, 8e-06, 0.01),\n",
       " (100, 8e-06, 0.06000000000000001),\n",
       " (100, 8e-06, 0.08),\n",
       " (100, 8e-06, 0.1),\n",
       " (100, 9e-06, 0.020000000000000004),\n",
       " (100, 9e-06, 0.07),\n",
       " (100, 1e-05, 0.020000000000000004),\n",
       " (100, 1e-05, 0.07)]"
      ]
     },
     "execution_count": 184,
     "metadata": {},
     "output_type": "execute_result"
    }
   ],
   "source": [
    "best_params"
   ]
  },
  {
   "cell_type": "code",
   "execution_count": 185,
   "metadata": {
    "ExecuteTime": {
     "end_time": "2019-10-15T01:33:53.511931Z",
     "start_time": "2019-10-15T01:33:53.508661Z"
    }
   },
   "outputs": [],
   "source": [
    "params_df['mse'] = mse_all"
   ]
  },
  {
   "cell_type": "code",
   "execution_count": 186,
   "metadata": {
    "ExecuteTime": {
     "end_time": "2019-10-15T01:33:54.121922Z",
     "start_time": "2019-10-15T01:33:54.118935Z"
    }
   },
   "outputs": [],
   "source": [
    "params_df['eta'] *= 100"
   ]
  },
  {
   "cell_type": "code",
   "execution_count": null,
   "metadata": {},
   "outputs": [],
   "source": []
  },
  {
   "cell_type": "code",
   "execution_count": 188,
   "metadata": {
    "ExecuteTime": {
     "end_time": "2019-10-15T01:34:12.683569Z",
     "start_time": "2019-10-15T01:34:12.107801Z"
    }
   },
   "outputs": [
    {
     "data": {
      "image/png": "[encoded data removed]",
      "text/plain": [
       "<Figure size 1440x1440 with 1 Axes>"
      ]
     },
     "metadata": {
      "needs_background": "light"
     },
     "output_type": "display_data"
    }
   ],
   "source": [
    "plt.figure(figsize=(20, 20))\n",
    "sns.lineplot(x='eta', y='mse', hue='iters',data=params_df)\n",
    "plt.title(\"Bad params\")\n",
    "plt.xlabel(\"Eta*100\")\n",
    "plt.show()"
   ]
  },
  {
   "cell_type": "code",
   "execution_count": 192,
   "metadata": {
    "ExecuteTime": {
     "end_time": "2019-10-15T01:35:37.898541Z",
     "start_time": "2019-10-15T01:35:37.266844Z"
    }
   },
   "outputs": [
    {
     "data": {
      "image/png": "[encoded data removed]",
      "text/plain": [
       "<Figure size 1440x1440 with 1 Axes>"
      ]
     },
     "metadata": {
      "needs_background": "light"
     },
     "output_type": "display_data"
    }
   ],
   "source": [
    "plt.figure(figsize=(20, 20))\n",
    "sns.lineplot(x='alpha', y='mse', hue='iters',data=params_df, palette=\"CMRmap\")\n",
    "plt.title(\"Bad params\")\n",
    "plt.show()"
   ]
  },
  {
   "cell_type": "code",
   "execution_count": 194,
   "metadata": {
    "ExecuteTime": {
     "end_time": "2019-10-15T01:36:15.896298Z",
     "start_time": "2019-10-15T01:36:15.892134Z"
    }
   },
   "outputs": [],
   "source": [
    "params_df = pd.DataFrame(best_params[1:], columns=['iters', 'eta', 'alpha'])"
   ]
  },
  {
   "cell_type": "code",
   "execution_count": 195,
   "metadata": {
    "ExecuteTime": {
     "end_time": "2019-10-15T01:36:17.173294Z",
     "start_time": "2019-10-15T01:36:17.170195Z"
    }
   },
   "outputs": [],
   "source": [
    "params_df['mse'] = best_mse[1:]"
   ]
  },
  {
   "cell_type": "code",
   "execution_count": 196,
   "metadata": {
    "ExecuteTime": {
     "end_time": "2019-10-15T01:36:17.732192Z",
     "start_time": "2019-10-15T01:36:17.729087Z"
    }
   },
   "outputs": [],
   "source": [
    "params_df['eta'] *= 1000"
   ]
  },
  {
   "cell_type": "code",
   "execution_count": 197,
   "metadata": {
    "ExecuteTime": {
     "end_time": "2019-10-15T01:36:19.089211Z",
     "start_time": "2019-10-15T01:36:18.852346Z"
    }
   },
   "outputs": [
    {
     "data": {
      "image/png": "[encoded data removed]",
      "text/plain": [
       "<Figure size 720x720 with 1 Axes>"
      ]
     },
     "metadata": {
      "needs_background": "light"
     },
     "output_type": "display_data"
    }
   ],
   "source": [
    "plt.figure(figsize=(10, 10))\n",
    "sns.scatterplot(x='eta', y='mse', hue='iters',data=params_df, palette=['r', 'blue'])\n",
    "plt.title(\"Best params\")\n",
    "plt.xlabel(\"Eta*1000\")\n",
    "plt.show()"
   ]
  },
  {
   "cell_type": "code",
   "execution_count": 198,
   "metadata": {
    "ExecuteTime": {
     "end_time": "2019-10-15T01:36:41.703501Z",
     "start_time": "2019-10-15T01:36:41.699987Z"
    }
   },
   "outputs": [],
   "source": [
    "params_df['finals'] = best_finals[1:]"
   ]
  },
  {
   "cell_type": "code",
   "execution_count": 227,
   "metadata": {
    "ExecuteTime": {
     "end_time": "2019-10-15T01:45:02.504153Z",
     "start_time": "2019-10-15T01:45:02.230876Z"
    }
   },
   "outputs": [
    {
     "data": {
      "image/png": "[encoded data removed]",
      "text/plain": [
       "<Figure size 720x720 with 1 Axes>"
      ]
     },
     "metadata": {
      "needs_background": "light"
     },
     "output_type": "display_data"
    }
   ],
   "source": [
    "plt.figure(figsize=(10, 10))\n",
    "sns.scatterplot(x='alpha', y='mse', hue='finals',data=params_df, palette='CMRmap', alpha=0.3)\n",
    "plt.title(\"Best params\")\n",
    "plt.xlabel(\"Eta*1000\")\n",
    "plt.show()"
   ]
  },
  {
   "cell_type": "code",
   "execution_count": 253,
   "metadata": {
    "ExecuteTime": {
     "end_time": "2019-10-15T01:49:54.892444Z",
     "start_time": "2019-10-15T01:49:54.889689Z"
    }
   },
   "outputs": [],
   "source": [
    "linreg_full_worst = LinearReg(max_iter=50, eta=1e-6, tolerance=1e-6)"
   ]
  },
  {
   "cell_type": "code",
   "execution_count": 254,
   "metadata": {
    "ExecuteTime": {
     "end_time": "2019-10-15T01:49:55.279871Z",
     "start_time": "2019-10-15T01:49:55.277183Z"
    }
   },
   "outputs": [],
   "source": [
    "linreg_stohastic_worst = LinearReg(max_iter=50, eta=1e-3, tolerance=1e-6)"
   ]
  },
  {
   "cell_type": "code",
   "execution_count": 255,
   "metadata": {
    "ExecuteTime": {
     "end_time": "2019-10-15T01:49:55.660928Z",
     "start_time": "2019-10-15T01:49:55.658142Z"
    }
   },
   "outputs": [],
   "source": [
    "linreg_momentum_worst = LinearReg(max_iter=50, eta=1e-3, tolerance=1e-6, alpha=0.01)"
   ]
  },
  {
   "cell_type": "markdown",
   "metadata": {},
   "source": [
    "Сравним полученные результаты:"
   ]
  },
  {
   "cell_type": "code",
   "execution_count": 256,
   "metadata": {
    "ExecuteTime": {
     "end_time": "2019-10-15T01:50:01.831964Z",
     "start_time": "2019-10-15T01:49:56.911383Z"
    }
   },
   "outputs": [
    {
     "data": {
      "text/plain": [
       "LinearReg(alpha=0.01, delta=1.0, eta=1e-06, gd_type='full', iter_steps=None,\n",
       "          max_iter=50, tolerance=1e-06, w0=None)"
      ]
     },
     "execution_count": 256,
     "metadata": {},
     "output_type": "execute_result"
    }
   ],
   "source": [
    "linreg_full_worst.fit(X_train, y_train)"
   ]
  },
  {
   "cell_type": "code",
   "execution_count": 257,
   "metadata": {
    "ExecuteTime": {
     "end_time": "2019-10-15T01:50:06.741688Z",
     "start_time": "2019-10-15T01:50:01.834148Z"
    }
   },
   "outputs": [
    {
     "data": {
      "text/plain": [
       "LinearReg(alpha=0.01, delta=1.0, eta=0.001, gd_type='full', iter_steps=None,\n",
       "          max_iter=50, tolerance=1e-06, w0=None)"
      ]
     },
     "execution_count": 257,
     "metadata": {},
     "output_type": "execute_result"
    }
   ],
   "source": [
    "linreg_stohastic_worst.fit(X_train, y_train)"
   ]
  },
  {
   "cell_type": "code",
   "execution_count": 258,
   "metadata": {
    "ExecuteTime": {
     "end_time": "2019-10-15T01:50:11.503935Z",
     "start_time": "2019-10-15T01:50:06.743818Z"
    }
   },
   "outputs": [
    {
     "data": {
      "text/plain": [
       "LinearReg(alpha=0.01, delta=1.0, eta=0.001, gd_type='full', iter_steps=None,\n",
       "          max_iter=50, tolerance=1e-06, w0=None)"
      ]
     },
     "execution_count": 258,
     "metadata": {},
     "output_type": "execute_result"
    }
   ],
   "source": [
    "linreg_momentum_worst.fit(X_train, y_train)"
   ]
  },
  {
   "cell_type": "code",
   "execution_count": 245,
   "metadata": {
    "ExecuteTime": {
     "end_time": "2019-10-15T01:48:22.990980Z",
     "start_time": "2019-10-15T01:48:22.988442Z"
    }
   },
   "outputs": [],
   "source": [
    "linreg_full_best = LinearReg(max_iter=200, eta=6.5e-05, tolerance=1e-6, gd_type='full')"
   ]
  },
  {
   "cell_type": "code",
   "execution_count": 246,
   "metadata": {
    "ExecuteTime": {
     "end_time": "2019-10-15T01:48:41.407995Z",
     "start_time": "2019-10-15T01:48:23.537129Z"
    }
   },
   "outputs": [
    {
     "data": {
      "text/plain": [
       "LinearReg(alpha=0.01, delta=1.0, eta=6.5e-05, gd_type='full', iter_steps=None,\n",
       "          max_iter=200, tolerance=1e-06, w0=None)"
      ]
     },
     "execution_count": 246,
     "metadata": {},
     "output_type": "execute_result"
    }
   ],
   "source": [
    "linreg_full_best.fit(X_train, y_train)"
   ]
  },
  {
   "cell_type": "code",
   "execution_count": 247,
   "metadata": {
    "ExecuteTime": {
     "end_time": "2019-10-15T01:48:41.412603Z",
     "start_time": "2019-10-15T01:48:41.410119Z"
    }
   },
   "outputs": [],
   "source": [
    "linreg_sgd_best = LinearReg(max_iter=200, eta=2e-06, tolerance=1e-6, gd_type='stohastic')"
   ]
  },
  {
   "cell_type": "code",
   "execution_count": 248,
   "metadata": {
    "ExecuteTime": {
     "end_time": "2019-10-15T01:48:49.713058Z",
     "start_time": "2019-10-15T01:48:41.415139Z"
    }
   },
   "outputs": [
    {
     "data": {
      "text/plain": [
       "LinearReg(alpha=0.01, delta=1.0, eta=2e-06, gd_type='stohastic',\n",
       "          iter_steps=None, max_iter=200, tolerance=1e-06, w0=None)"
      ]
     },
     "execution_count": 248,
     "metadata": {},
     "output_type": "execute_result"
    }
   ],
   "source": [
    "linreg_sgd_best.fit(X_train, y_train)"
   ]
  },
  {
   "cell_type": "code",
   "execution_count": 249,
   "metadata": {
    "ExecuteTime": {
     "end_time": "2019-10-15T01:48:49.718084Z",
     "start_time": "2019-10-15T01:48:49.715345Z"
    }
   },
   "outputs": [],
   "source": [
    "linreg_momentum_best = LinearReg(gd_type='momentum', max_iter=100, eta=1e-5, alpha=0.07, tolerance=1e-6)"
   ]
  },
  {
   "cell_type": "code",
   "execution_count": 250,
   "metadata": {
    "ExecuteTime": {
     "end_time": "2019-10-15T01:48:51.958742Z",
     "start_time": "2019-10-15T01:48:49.719940Z"
    }
   },
   "outputs": [
    {
     "data": {
      "text/plain": [
       "LinearReg(alpha=0.07, delta=1.0, eta=1e-05, gd_type='momentum', iter_steps=None,\n",
       "          max_iter=100, tolerance=1e-06, w0=None)"
      ]
     },
     "execution_count": 250,
     "metadata": {},
     "output_type": "execute_result"
    }
   ],
   "source": [
    "linreg_momentum_best.fit(X_train, y_train)"
   ]
  },
  {
   "cell_type": "code",
   "execution_count": 251,
   "metadata": {
    "ExecuteTime": {
     "end_time": "2019-10-15T01:48:52.258565Z",
     "start_time": "2019-10-15T01:48:51.960761Z"
    }
   },
   "outputs": [
    {
     "data": {
      "image/png": "[encoded data removed]",
      "text/plain": [
       "<Figure size 720x720 with 1 Axes>"
      ]
     },
     "metadata": {
      "needs_background": "light"
     },
     "output_type": "display_data"
    }
   ],
   "source": [
    "plt.figure(figsize=(10, 10))\n",
    "plt.plot(linreg_full_best.loss_history, label=\"FULL\")\n",
    "plt.plot(linreg_sgd_best.loss_history, label=\"SGD\")\n",
    "plt.plot(linreg_momentum_best.loss_history, label=\"Momentum\")\n",
    "plt.xlabel(\"Steps\")\n",
    "plt.ylabel(\"MSE\")\n",
    "plt.legend()\n",
    "plt.title(\"Bests\")\n",
    "plt.show()"
   ]
  },
  {
   "cell_type": "code",
   "execution_count": 262,
   "metadata": {
    "ExecuteTime": {
     "end_time": "2019-10-15T01:51:55.933854Z",
     "start_time": "2019-10-15T01:51:55.679866Z"
    }
   },
   "outputs": [
    {
     "data": {
      "image/png": "[encoded data removed]",
      "text/plain": [
       "<Figure size 720x720 with 1 Axes>"
      ]
     },
     "metadata": {
      "needs_background": "light"
     },
     "output_type": "display_data"
    }
   ],
   "source": [
    "plt.figure(figsize=(10, 10))\n",
    "plt.plot(np.log(np.sqrt(linreg_full_worst.loss_history)), label=\"FULL\")\n",
    "plt.plot(np.log(np.sqrt(linreg_stohastic_worst.loss_history)), label=\"SGD\")\n",
    "plt.plot(np.log(np.sqrt(linreg_momentum_worst.loss_history)), label=\"Momentum\")\n",
    "plt.xlabel(\"Steps\")\n",
    "plt.ylabel(\"MSE\")\n",
    "plt.legend()\n",
    "plt.title(\"Worst\")\n",
    "plt.show()"
   ]
  },
  {
   "cell_type": "code",
   "execution_count": null,
   "metadata": {},
   "outputs": [],
   "source": []
  },
  {
   "cell_type": "markdown",
   "metadata": {},
   "source": [
    "`max_iter` и `eta` должны оптимизироваться исходя из задач: если нам нужно ближе к максимуму (минимуму), берем шаг меньше, итераций больше (просто не факт что мы сойдемся, как видно сверху), если нужно быстро найти, то шаг больше и меньше итераций (опять не факт, что сойдемся, мможем перескочить)."
   ]
  },
  {
   "cell_type": "markdown",
   "metadata": {
    "ExecuteTime": {
     "end_time": "2019-10-15T01:57:27.399597Z",
     "start_time": "2019-10-15T01:57:27.396157Z"
    }
   },
   "source": [
    "как показано, они очень сильно влияют на модели и оптимизацию, которая сверхчувствительна к изменениям гиперпараметров."
   ]
  },
  {
   "cell_type": "markdown",
   "metadata": {},
   "source": [
    "## **Задание 6 (2 балла)**. \n",
    "Постройте графики (на одной и той же картинке) зависимости величины функции потерь от номера итерации для полного, стохастического градиентного спусков, а также для полного градиентного спуска с методом Momentum. Сделайте выводы о скорости сходимости различных модификаций градиентного спуска.\n",
    "\n",
    "Не забывайте о том, что должны получиться *красивые* графики!"
   ]
  },
  {
   "cell_type": "code",
   "execution_count": 264,
   "metadata": {
    "ExecuteTime": {
     "end_time": "2019-10-15T01:57:33.830350Z",
     "start_time": "2019-10-15T01:57:33.587633Z"
    }
   },
   "outputs": [
    {
     "data": {
      "image/png": "[encoded data removed]",
      "text/plain": [
       "<Figure size 720x720 with 1 Axes>"
      ]
     },
     "metadata": {
      "needs_background": "light"
     },
     "output_type": "display_data"
    }
   ],
   "source": [
    "plt.figure(figsize=(10, 10))\n",
    "plt.plot(linreg_full.loss_history, label=\"FULL\")\n",
    "plt.plot(linreg_sgd.loss_history, label=\"SGD\")\n",
    "plt.plot(linreg_momentum.loss_history, label=\"Momentum\")\n",
    "plt.xlabel(\"Steps\")\n",
    "plt.ylabel(\"MSE\")\n",
    "plt.legend()\n",
    "plt.show()"
   ]
  },
  {
   "cell_type": "markdown",
   "metadata": {},
   "source": [
    "Стохастический сходится медленнее (неудивительно), momentum и обычный спуск -- практически идентично, зависит от параметра $\\alpha$"
   ]
  },
  {
   "cell_type": "markdown",
   "metadata": {},
   "source": [
    "### Бонус "
   ]
  },
  {
   "cell_type": "markdown",
   "metadata": {},
   "source": [
    "## **Задание 7 (2 балла)**.\n",
    "Реализуйте линейную регрессию с функцией потерь MSE, обучаемую с помощью метода\n",
    "[Adam](https://arxiv.org/pdf/1412.6980.pdf) - добавьте при необходимости параметры в класс модели, повторите пункты 5 и 6 и сравните результаты. "
   ]
  },
  {
   "cell_type": "code",
   "execution_count": 267,
   "metadata": {
    "ExecuteTime": {
     "end_time": "2019-10-15T02:01:40.310159Z",
     "start_time": "2019-10-15T02:01:40.283478Z"
    }
   },
   "outputs": [],
   "source": [
    "class LinearReg(BaseEstimator):\n",
    "    def __init__(self, delta=1.0, gd_type='stochastic', \n",
    "                 tolerance=1e-4, max_iter=1000, w0=None, alpha=1e-3, eta=1e-5, \n",
    "                 iter_steps=False, beta1=0.9, beta2=0.999, eps= 1e-8):\n",
    "        \"\"\"\n",
    "        gd_type: 'full' or 'stochastic' or 'momentum'\n",
    "        tolerance: for stopping gradient descent\n",
    "        max_iter: maximum number of steps in gradient descent\n",
    "        w0: np.array of shape (d) - init weights\n",
    "        eta: learning rate\n",
    "        alpha: momentum coefficient\n",
    "        iter_steps: Enable step sequence for Robbins–Monro algorithm in 'stohastic' (addition) \n",
    "        \"\"\"\n",
    "        self.delta = delta\n",
    "        self.gd_type = gd_type\n",
    "        self.tolerance = tolerance\n",
    "        self.max_iter = max_iter\n",
    "        self.w0 = w0\n",
    "        self.alpha = alpha\n",
    "        self.w = None\n",
    "        self.eta = eta\n",
    "        self.loss_history = None # list of loss function values at each training iteration\n",
    "        self.final = -1\n",
    "        self.beta1 = beta1\n",
    "        self.beta2 = beta2\n",
    "        self.eps = eps\n",
    "    \n",
    "    def fit(self, X, y):\n",
    "        \"\"\"\n",
    "        X: np.array of shape (ell, d)\n",
    "        y: np.array of shape (ell)\n",
    "        ---\n",
    "        output: self\n",
    "        \"\"\"\n",
    "        self.loss_history = []\n",
    "        # ingnore strings \n",
    "        X_n = X.loc[:, X.select_dtypes('number').columns]\n",
    "        X_n[\"bias\"] = 1\n",
    "        if self.w0:\n",
    "            self.w = self.w0\n",
    "        else:\n",
    "            self.w = np.zeros(X_n.shape[1])\n",
    "        h0 = np.zeros(X_n.shape[1])\n",
    "        h = h0\n",
    "        m0 = np.zeros(X_n.shape[1])\n",
    "        v0 = np.zeros(X_n.shape[1])\n",
    "        m = m0\n",
    "        v = v0\n",
    "        if self.gd_type == \"full\":\n",
    "            for i in range(self.max_iter):\n",
    "                candidat = self.w - self.eta*self.calc_gradient(X_n, y)\n",
    "                if np.sqrt(mean_squared_error(self.w, candidat)) < self.tolerance:\n",
    "#                     print(\"Final Step\", i)\n",
    "                    self.final = i\n",
    "                    break;\n",
    "                self.w = candidat\n",
    "                self.loss_history.append(self.calc_loss(X_n, y))\n",
    "            if self.final == -1:\n",
    "                self.final = self.max_iter\n",
    "        \n",
    "        if self.gd_type == 'stohastic':\n",
    "            for i in range(self.max_iter):\n",
    "                idx = np.random.randint(1, X_n.shape[0], size=1)\n",
    "                candidat = self.w - self.eta*self.calc_gradient(X_n.iloc[idx], y.iloc[idx])\n",
    "                if np.sqrt(mean_squared_error(self.w, candidat)) < self.tolerance:\n",
    "#                     print(\"Final Step\", i)\n",
    "                    self.final = i\n",
    "                    break;\n",
    "                self.w = candidat\n",
    "                self.loss_history.append(self.calc_loss(X_n, y))\n",
    "            if self.final == -1:\n",
    "                self.final = self.max_iter\n",
    "        \n",
    "        if self.gd_type == 'momentum':\n",
    "            for i in range(self.max_iter):\n",
    "                h = self.alpha*h + self.eta*self.calc_gradient(X_n, y)\n",
    "                candidat = self.w - h\n",
    "                if np.sqrt(mean_squared_error(self.w, candidat)) < self.tolerance:\n",
    "#                     print(\"Final Step\", i)\n",
    "                    self.final = i\n",
    "                    break;\n",
    "                self.w = candidat\n",
    "                self.loss_history.append(self.calc_loss(X_n, y))\n",
    "            if self.final == -1:\n",
    "                self.final = self.max_iter\n",
    "        \n",
    "        if self.gd_type == 'adam':\n",
    "            for i in range(self.max_iter):\n",
    "                g = self.calc_gradient(X_n, y)\n",
    "                m = self.beta1 * m + (1 - self.beta1) * g\n",
    "                v = self.beta2 * v + (1 - self.beta2) * np.power(g, 2)\n",
    "                m_ = m / (1 - np.power(self.beta1, i + 1))\n",
    "                v_ = v / (1 - np.power(self.beta2, i + 1))\n",
    "                candidat = self.w - self.eta * (m_ /(np.sqrt(v_)+ self.eps))\n",
    "#                 print(candidat)\n",
    "                if np.sqrt(mean_squared_error(self.w, candidat)) < self.tolerance:\n",
    "#                     print(\"Final Step\", i)\n",
    "                    self.final = i\n",
    "                    break;\n",
    "                self.w = candidat\n",
    "                self.loss_history.append(self.calc_loss(X_n, y))\n",
    "            if self.final == -1:\n",
    "                self.final = self.max_iter   \n",
    "        return self\n",
    "    \n",
    "    def predict(self, X):\n",
    "        X_n = X.loc[:, X.select_dtypes('number').columns]\n",
    "        X_n[\"bias\"] = 1\n",
    "        return X_n @ self.w\n",
    "    \n",
    "    def calc_gradient(self, X, y):\n",
    "        \"\"\"\n",
    "        X: np.array of shape (ell, d) (ell can be equal to 1 if stochastic)\n",
    "        y: np.array of shape (ell)\n",
    "        ---\n",
    "        output: np.array of shape (d)\n",
    "        \"\"\"\n",
    "#         print(X.shape, self.w.shape)\n",
    "        return 2 * np.dot(X.T, (np.dot(X , self.w) - y)) / X.shape[0]\n",
    "    def calc_loss(self, X, y):\n",
    "        \"\"\"\n",
    "        X: np.array of shape (ell, d)\n",
    "        y: np.array of shape (ell)\n",
    "        ---\n",
    "        output: float \n",
    "        \"\"\" \n",
    "        return mean_squared_error(self.predict(X), y)\n",
    "    def get_finish():\n",
    "        return self.final"
   ]
  },
  {
   "cell_type": "code",
   "execution_count": 275,
   "metadata": {
    "ExecuteTime": {
     "end_time": "2019-10-15T03:17:03.908363Z",
     "start_time": "2019-10-15T03:17:03.905619Z"
    }
   },
   "outputs": [],
   "source": [
    "linreg_adam = LinearReg(gd_type='adam', eta= 1e-3, tolerance=1e-4)"
   ]
  },
  {
   "cell_type": "code",
   "execution_count": 276,
   "metadata": {
    "ExecuteTime": {
     "end_time": "2019-10-15T03:17:08.488440Z",
     "start_time": "2019-10-15T03:17:04.403549Z"
    }
   },
   "outputs": [
    {
     "data": {
      "text/plain": [
       "LinearReg(alpha=0.001, beta1=0.9, beta2=0.999, delta=1.0, eps=1e-08, eta=0.001,\n",
       "          gd_type='adam', iter_steps=None, max_iter=1000, tolerance=0.0001,\n",
       "          w0=None)"
      ]
     },
     "execution_count": 276,
     "metadata": {},
     "output_type": "execute_result"
    }
   ],
   "source": [
    "linreg_adam.fit(X_train, y_train)"
   ]
  },
  {
   "cell_type": "code",
   "execution_count": 277,
   "metadata": {
    "ExecuteTime": {
     "end_time": "2019-10-15T03:17:08.529843Z",
     "start_time": "2019-10-15T03:17:08.490762Z"
    }
   },
   "outputs": [],
   "source": [
    "pred_adam = linreg_adam.predict(X_test)"
   ]
  },
  {
   "cell_type": "code",
   "execution_count": 278,
   "metadata": {
    "ExecuteTime": {
     "end_time": "2019-10-15T03:17:08.545440Z",
     "start_time": "2019-10-15T03:17:08.532263Z"
    }
   },
   "outputs": [
    {
     "name": "stdout",
     "output_type": "stream",
     "text": [
      "MSE 0.7972868716982076\n",
      "R2 -0.2662417255902425\n"
     ]
    }
   ],
   "source": [
    "print(\"MSE\", mean_squared_error(pred_adam, y_test))\n",
    "print(\"R2\", r2_score(y_test, pred_adam))"
   ]
  },
  {
   "cell_type": "code",
   "execution_count": 30,
   "metadata": {
    "ExecuteTime": {
     "end_time": "2019-10-14T22:16:08.722410Z",
     "start_time": "2019-10-14T22:16:08.718969Z"
    }
   },
   "outputs": [
    {
     "data": {
      "text/plain": [
       "44"
      ]
     },
     "execution_count": 30,
     "metadata": {},
     "output_type": "execute_result"
    }
   ],
   "source": [
    "linreg_adam.final"
   ]
  },
  {
   "cell_type": "code",
   "execution_count": 271,
   "metadata": {
    "ExecuteTime": {
     "end_time": "2019-10-15T02:03:16.616676Z",
     "start_time": "2019-10-15T02:03:16.613117Z"
    }
   },
   "outputs": [],
   "source": [
    "etas = np.linspace(1e-3, 1e-2, 20)\n",
    "max_iters =  [10, 100, 200]\n",
    "betas1 = np.linspace(0.99999, 0.9, 3)\n",
    "betas2 = np.linspace(0.99999, 0.9, 3)"
   ]
  },
  {
   "cell_type": "code",
   "execution_count": 272,
   "metadata": {
    "ExecuteTime": {
     "end_time": "2019-10-15T02:15:45.224605Z",
     "start_time": "2019-10-15T02:03:17.025894Z"
    }
   },
   "outputs": [
    {
     "name": "stdout",
     "output_type": "stream",
     "text": [
      "Params 10 0.001\n",
      "MSE 17.74617560718784\n",
      "Params 10 0.001\n",
      "MSE 17.618629506992622\n",
      "Params 10 0.001\n",
      "MSE 17.48186471831458\n",
      "Params 10 0.001\n",
      "MSE 17.872557519657345\n",
      "Params 10 0.001\n",
      "MSE 17.746947802546053\n",
      "Params 10 0.001\n",
      "MSE 17.612314491866265\n",
      "Params 10 0.001\n",
      "MSE 18.002791476667163\n",
      "Params 10 0.001\n",
      "MSE 17.879186906262213\n",
      "Params 10 0.001\n",
      "MSE 17.74675973656455\n",
      "Params 10 0.0014736842105263158\n",
      "MSE 9.91372670505625\n",
      "Params 10 0.0014736842105263158\n",
      "MSE 9.699250670867507\n",
      "Params 10 0.0014736842105263158\n",
      "MSE 9.4658310219832\n",
      "Params 10 0.0014736842105263158\n",
      "MSE 10.128324136079268\n",
      "Params 10 0.0014736842105263158\n",
      "MSE 9.917823685444095\n",
      "Params 10 0.0014736842105263158\n",
      "MSE 9.688866034870179\n",
      "Params 10 0.0014736842105263158\n",
      "MSE 10.350100761436526\n",
      "Params 10 0.0014736842105263158\n",
      "MSE 10.14378015969599\n",
      "Params 10 0.0014736842105263158\n",
      "MSE 9.919513253836497\n",
      "Params 10 0.0019473684210526317\n",
      "MSE 4.540058830094027\n",
      "Params 10 0.0019473684210526317\n",
      "MSE 4.289822361198251\n",
      "Params 10 0.0019473684210526317\n",
      "MSE 4.017010204392902\n",
      "Params 10 0.0019473684210526317\n",
      "MSE 4.798837701569603\n",
      "Params 10 0.0019473684210526317\n",
      "MSE 4.551091224154474\n",
      "Params 10 0.0019473684210526317\n",
      "MSE 4.280799405782313\n",
      "Params 10 0.0019473684210526317\n",
      "MSE 5.070245907012753\n",
      "Params 10 0.0019473684210526317\n",
      "MSE 4.82564396251957\n",
      "Params 10 0.0019473684210526317\n",
      "MSE 4.558659281719014\n",
      "Params 10 0.0024210526315789475\n",
      "MSE 1.5186772817492884\n",
      "Params 10 0.0024210526315789475\n",
      "MSE 1.3385362598885207\n",
      "Params 10 0.0024210526315789475\n",
      "MSE 1.155520695411608\n",
      "Params 10 0.0024210526315789475\n",
      "MSE 1.7255120262326615\n",
      "Params 10 0.0024210526315789475\n",
      "MSE 1.5349789639410878\n",
      "Params 10 0.0024210526315789475\n",
      "MSE 1.3377169729041485\n",
      "Params 10 0.0024210526315789475\n",
      "MSE 1.9563714126447314\n",
      "Params 10 0.0024210526315789475\n",
      "MSE 1.757620110841483\n",
      "Params 10 0.0024210526315789475\n",
      "MSE 1.548918070498268\n",
      "Params 10 0.0028947368421052633\n",
      "MSE 0.6347638239543667\n",
      "Params 10 0.0028947368421052633\n",
      "MSE 0.6668253862838862\n",
      "Params 10 0.0028947368421052633\n",
      "MSE 0.7564058644179626\n",
      "Params 10 0.0028947368421052633\n",
      "MSE 0.6455990240842129\n",
      "Params 10 0.0028947368421052633\n",
      "MSE 0.63340958356834\n",
      "Params 10 0.0028947368421052633\n",
      "MSE 0.6637192190073775\n",
      "Params 10 0.0028947368421052633\n",
      "MSE 0.7041884594060543\n",
      "Params 10 0.0028947368421052633\n",
      "MSE 0.6538433307528797\n",
      "Params 10 0.0028947368421052633\n",
      "MSE 0.6330113843675855\n",
      "Params 10 0.003368421052631579\n",
      "MSE 1.5360194945279892\n",
      "Params 10 0.003368421052631579\n",
      "MSE 1.9106887087053064\n",
      "Params 10 0.003368421052631579\n",
      "MSE 2.4378411952303845\n",
      "Params 10 0.003368421052631579\n",
      "MSE 1.1766393872105534\n",
      "Params 10 0.003368421052631579\n",
      "MSE 1.4477768530517479\n",
      "Params 10 0.003368421052631579\n",
      "MSE 1.8381912581031978\n",
      "Params 10 0.003368421052631579\n",
      "MSE 0.9085798630412696\n",
      "Params 10 0.003368421052631579\n",
      "MSE 1.0895757301419642\n",
      "Params 10 0.003368421052631579\n",
      "MSE 1.360665987823283\n",
      "Params 10 0.003842105263157895\n",
      "MSE 3.734987711433899\n",
      "Params 10 0.003842105263157895\n",
      "MSE 4.506944771674192\n",
      "Params 10 0.003842105263157895\n",
      "MSE 5.514691869180136\n",
      "Params 10 0.003842105263157895\n",
      "MSE 2.8321106941984024\n",
      "Params 10 0.003842105263157895\n",
      "MSE 3.4242501721072145\n",
      "Params 10 0.003842105263157895\n",
      "MSE 4.203748540960162\n",
      "Params 10 0.003842105263157895\n",
      "MSE 2.0897064119603828\n",
      "Params 10 0.003842105263157895\n",
      "MSE 2.5250082676706613\n",
      "Params 10 0.003842105263157895\n",
      "MSE 3.1035128395905143\n",
      "Params 10 0.00431578947368421\n",
      "MSE 6.664103988419836\n",
      "Params 10 0.00431578947368421\n",
      "MSE 7.775889441906216\n",
      "Params 10 0.00431578947368421\n",
      "MSE 9.142002919206497\n",
      "Params 10 0.00431578947368421\n",
      "MSE 5.079916837500986\n",
      "Params 10 0.00431578947368421\n",
      "MSE 5.938278667147751\n",
      "Params 10 0.00431578947368421\n",
      "MSE 7.002156320875194\n",
      "Params 10 0.00431578947368421\n",
      "MSE 3.7525881022475103\n",
      "Params 10 0.00431578947368421\n",
      "MSE 4.389262615848843\n",
      "Params 10 0.00431578947368421\n",
      "MSE 5.18339439958738\n",
      "Params 10 0.004789473684210527\n",
      "MSE 9.773347028617184\n",
      "Params 10 0.004789473684210527\n",
      "MSE 11.080720178338206\n",
      "Params 10 0.004789473684210527\n",
      "MSE 12.59063050957725\n",
      "Params 10 0.004789473684210527\n",
      "MSE 7.428699724182727\n",
      "Params 10 0.004789473684210527\n",
      "MSE 8.429774488725892\n",
      "Params 10 0.004789473684210527\n",
      "MSE 9.598666076229689\n",
      "Params 10 0.004789473684210527\n",
      "MSE 5.462322280668224\n",
      "Params 10 0.004789473684210527\n",
      "MSE 6.194231185615329\n",
      "Params 10 0.004789473684210527\n",
      "MSE 7.054115239294623\n",
      "Params 10 0.005263157894736842\n",
      "MSE 12.623806889269636\n",
      "Params 10 0.005263157894736842\n",
      "MSE 13.961043388856575\n",
      "Params 10 0.005263157894736842\n",
      "MSE 15.41717946351116\n",
      "Params 10 0.005263157894736842\n",
      "MSE 9.502653318570921\n",
      "Params 10 0.005263157894736842\n",
      "MSE 10.507724709947178\n",
      "Params 10 0.005263157894736842\n",
      "MSE 11.615793004751309\n",
      "Params 10 0.005263157894736842\n",
      "MSE 6.902341885957627\n",
      "Params 10 0.005263157894736842\n",
      "MSE 7.614339479617611\n",
      "Params 10 0.005263157894736842\n",
      "MSE 8.40283027254835\n",
      "Params 10 0.005736842105263158\n",
      "MSE 14.932850486244714\n",
      "Params 10 0.005736842105263158\n",
      "MSE 16.167170744620186\n",
      "Params 10 0.005736842105263158\n",
      "MSE 17.44408409900608\n",
      "Params 10 0.005736842105263158\n",
      "MSE 11.072711543899409\n",
      "Params 10 0.005736842105263158\n",
      "MSE 11.972108255954833\n",
      "Params 10 0.005736842105263158\n",
      "MSE 12.914022539694331\n",
      "Params 10 0.005736842105263158\n",
      "MSE 7.8933656603406455\n",
      "Params 10 0.005736842105263158\n",
      "MSE 8.496948434408496\n",
      "Params 10 0.005736842105263158\n",
      "MSE 9.128511378661901\n",
      "Params 10 0.0062105263157894745\n",
      "MSE 16.56566871663507\n",
      "Params 10 0.0062105263157894745\n",
      "MSE 17.617312878872607\n",
      "Params 10 0.0062105263157894745\n",
      "MSE 18.660478456065697\n",
      "Params 10 0.0062105263157894745\n",
      "MSE 12.043492406852064\n",
      "Params 10 0.0062105263157894745\n",
      "MSE 12.773151465955088\n",
      "Params 10 0.0062105263157894745\n",
      "MSE 13.504673786846954\n",
      "Params 10 0.0062105263157894745\n",
      "MSE 8.253497701308808\n",
      "Params 10 0.0062105263157894745\n",
      "MSE 8.899564221671993\n",
      "Params 10 0.0062105263157894745\n",
      "MSE 9.264404032669947\n",
      "Params 10 0.00668421052631579\n",
      "MSE 17.497968272174358\n",
      "Params 10 0.00668421052631579\n",
      "MSE 18.334790754462244\n",
      "Params 10 0.00668421052631579\n",
      "MSE 19.137969488028908\n",
      "Params 10 0.00668421052631579\n",
      "MSE 12.286618108258587\n",
      "Params 10 0.00668421052631579\n",
      "MSE 13.068507476783658\n",
      "Params 10 0.00668421052631579\n",
      "MSE 13.4733998783181\n",
      "Params 10 0.00668421052631579\n",
      "MSE 8.376125925349992\n",
      "Params 10 0.00668421052631579\n",
      "MSE 8.652356492875997\n",
      "Params 10 0.00668421052631579\n",
      "MSE 8.908711458064728\n",
      "Params 10 0.007157894736842105\n",
      "MSE 17.775124199757165\n",
      "Params 10 0.007157894736842105\n",
      "MSE 18.327011094753747\n",
      "Params 10 0.007157894736842105\n",
      "MSE 18.981123552776886\n",
      "Params 10 0.007157894736842105\n",
      "MSE 12.256950252496518\n",
      "Params 10 0.007157894736842105\n",
      "MSE 12.606372135595784\n",
      "Params 10 0.007157894736842105\n",
      "MSE 12.933971455428562\n",
      "Params 10 0.007157894736842105\n",
      "MSE 9.263495654244673\n",
      "Params 10 0.007157894736842105\n",
      "MSE 8.086666645621616\n",
      "Params 10 0.007157894736842105\n",
      "MSE 8.181742047708317\n",
      "Params 10 0.0076315789473684215\n",
      "MSE 17.48010341355007\n",
      "Params 10 0.0076315789473684215\n",
      "MSE 17.90833114634143\n",
      "Params 10 0.0076315789473684215\n",
      "MSE 18.302770405729124\n",
      "Params 10 0.0076315789473684215\n",
      "MSE 13.136878698454396\n",
      "Params 10 0.0076315789473684215\n",
      "MSE 11.83837188798554\n",
      "Params 10 0.0076315789473684215\n",
      "MSE 12.004909297890261\n",
      "Params 10 0.0076315789473684215\n",
      "MSE 7.254001879225751\n",
      "Params 10 0.0076315789473684215\n",
      "MSE 7.23768640927235\n",
      "Params 10 0.0076315789473684215\n",
      "MSE 7.203958105347715\n",
      "Params 10 0.008105263157894737\n",
      "MSE 16.712165447387502\n",
      "Params 10 0.008105263157894737\n",
      "MSE 18.762191335850357\n",
      "Params 10 0.008105263157894737\n",
      "MSE 17.212842132778075\n",
      "Params 10 0.008105263157894737\n",
      "MSE 10.715881760668108\n",
      "Params 10 0.008105263157894737\n",
      "MSE 10.761302920734105\n",
      "Params 10 0.008105263157894737\n",
      "MSE 10.798945871987831\n",
      "Params 10 0.008105263157894737\n",
      "MSE 6.3338690046720325\n",
      "Params 10 0.008105263157894737\n",
      "MSE 10.575801509633747\n",
      "Params 10 0.008105263157894737\n",
      "MSE 6.086081554369662\n",
      "Params 10 0.008578947368421054\n",
      "MSE 15.574111757410689\n",
      "Params 10 0.008578947368421054\n",
      "MSE 15.698871361990562\n",
      "Params 10 0.008578947368421054\n",
      "MSE 15.813835939654263\n",
      "Params 10 0.008578947368421054\n",
      "MSE 9.542689559750006\n",
      "Params 10 0.008578947368421054\n",
      "MSE 9.479971531213932\n",
      "Params 10 0.008578947368421054\n",
      "MSE 15.122939842761234\n",
      "Params 10 0.008578947368421054\n",
      "MSE 5.306851581646163\n",
      "Params 10 0.008578947368421054\n",
      "MSE 5.116754416833965\n",
      "Params 10 0.008578947368421054\n",
      "MSE 4.925211142557116\n",
      "Params 10 0.009052631578947368\n",
      "MSE 14.165225961170556\n",
      "Params 10 0.009052631578947368\n",
      "MSE 14.181372305568036\n",
      "Params 10 0.009052631578947368\n",
      "MSE 19.721627217851893\n"
     ]
    },
    {
     "name": "stdout",
     "output_type": "stream",
     "text": [
      "Params 10 0.009052631578947368\n",
      "MSE 8.231882491571001\n",
      "Params 10 0.009052631578947368\n",
      "MSE 8.089259174298753\n",
      "Params 10 0.009052631578947368\n",
      "MSE 7.9559990220300545\n",
      "Params 10 0.009052631578947368\n",
      "MSE 4.259765356894535\n",
      "Params 10 0.009052631578947368\n",
      "MSE 4.028963017559283\n",
      "Params 10 0.009052631578947368\n",
      "MSE 3.803657564075036\n",
      "Params 10 0.009526315789473685\n",
      "MSE 12.57766223280303\n",
      "Params 10 0.009526315789473685\n",
      "MSE 12.510222431553403\n",
      "Params 10 0.009526315789473685\n",
      "MSE 12.45379241706796\n",
      "Params 10 0.009526315789473685\n",
      "MSE 6.869631932627613\n",
      "Params 10 0.009526315789473685\n",
      "MSE 6.672684754418392\n",
      "Params 10 0.009526315789473685\n",
      "MSE 6.490519175788945\n",
      "Params 10 0.009526315789473685\n",
      "MSE 3.2656370251053093\n",
      "Params 10 0.009526315789473685\n",
      "MSE 3.0217474663949337\n",
      "Params 10 0.009526315789473685\n",
      "MSE 12.284861620711649\n",
      "Params 10 0.01\n",
      "MSE 10.894798374593043\n",
      "Params 10 0.01\n",
      "MSE 10.765240132872506\n",
      "Params 10 0.01\n",
      "MSE 10.652999351663041\n",
      "Params 10 0.01\n",
      "MSE 5.530562284708524\n",
      "Params 10 0.01\n",
      "MSE 5.302067480876376\n",
      "Params 10 0.01\n",
      "MSE 15.919192848444675\n",
      "Params 10 0.01\n",
      "MSE 2.3828149923214075\n",
      "Params 10 0.01\n",
      "MSE 2.150542630801712\n",
      "Params 10 0.01\n",
      "MSE 1.9338109933127416\n",
      "Params 100 0.001\n",
      "MSE 14.27505013823657\n",
      "Params 100 0.001\n",
      "MSE 17.58598802932221\n",
      "Params 100 0.001\n",
      "MSE 19.27060153876928\n",
      "Params 100 0.001\n",
      "MSE 2.341839586401868\n",
      "Params 100 0.001\n",
      "MSE 3.646810383327104\n",
      "Params 100 0.001\n",
      "MSE 5.377316691191473\n",
      "Params 100 0.001\n",
      "MSE 0.7943719836702193\n",
      "Params 100 0.001\n",
      "MSE 1.1142082098467596\n",
      "Params 100 0.001\n",
      "MSE 1.6657152408889262\n",
      "Params 100 0.0014736842105263158\n",
      "MSE 14.598722484098838\n",
      "Params 100 0.0014736842105263158\n",
      "MSE 17.066091691333728\n",
      "Params 100 0.0014736842105263158\n",
      "MSE 18.94601688210129\n",
      "Params 100 0.0014736842105263158\n",
      "MSE 4.064087663192332\n",
      "Params 100 0.0014736842105263158\n",
      "MSE 5.360242398337398\n",
      "Params 100 0.0014736842105263158\n",
      "MSE 6.923002137405163\n",
      "Params 100 0.0014736842105263158\n",
      "MSE 1.445439630589895\n",
      "Params 100 0.0014736842105263158\n",
      "MSE 1.9000582823480485\n",
      "Params 100 0.0014736842105263158\n",
      "MSE 2.636079809304563\n",
      "Params 100 0.0019473684210526317\n",
      "MSE 15.049041948217063\n",
      "Params 100 0.0019473684210526317\n",
      "MSE 17.003943342103202\n",
      "Params 100 0.0019473684210526317\n",
      "MSE 18.556308570065195\n",
      "Params 100 0.0019473684210526317\n",
      "MSE 5.391886634117163\n",
      "Params 100 0.0019473684210526317\n",
      "MSE 6.636512044783609\n",
      "Params 100 0.0019473684210526317\n",
      "MSE 8.081018311026169\n",
      "Params 100 0.0019473684210526317\n",
      "MSE 2.2509426727174753\n",
      "Params 100 0.0019473684210526317\n",
      "MSE 2.8169739361659945\n",
      "Params 100 0.0019473684210526317\n",
      "MSE 3.5783207590311847\n",
      "Params 100 0.0024210526315789475\n",
      "MSE 15.333091445705387\n",
      "Params 100 0.0024210526315789475\n",
      "MSE 16.846727981928286\n",
      "Params 100 0.0024210526315789475\n",
      "MSE 18.34841978825851\n",
      "Params 100 0.0024210526315789475\n",
      "MSE 6.643504123341353\n",
      "Params 100 0.0024210526315789475\n",
      "MSE 7.757764152039646\n",
      "Params 100 0.0024210526315789475\n",
      "MSE 9.011954767289843\n",
      "Params 100 0.0024210526315789475\n",
      "MSE 3.1169235497256254\n",
      "Params 100 0.0024210526315789475\n",
      "MSE 3.698807685311615\n",
      "Params 100 0.0024210526315789475\n",
      "MSE 4.41787635586927\n",
      "Params 100 0.0028947368421052633\n",
      "MSE 15.426170637452808\n",
      "Params 100 0.0028947368421052633\n",
      "MSE 17.028226504939866\n",
      "Params 100 0.0028947368421052633\n",
      "MSE 18.340610793902886\n",
      "Params 100 0.0028947368421052633\n",
      "MSE 7.652719292955795\n",
      "Params 100 0.0028947368421052633\n",
      "MSE 8.669216387717176\n",
      "Params 100 0.0028947368421052633\n",
      "MSE 9.758620597986521\n",
      "Params 100 0.0028947368421052633\n",
      "MSE 3.9358523991961487\n",
      "Params 100 0.0028947368421052633\n",
      "MSE 1.421093112302534\n",
      "Params 100 0.0028947368421052633\n",
      "MSE 5.331650970166505\n",
      "Params 100 0.003368421052631579\n",
      "MSE 15.671273382077512\n",
      "Params 100 0.003368421052631579\n",
      "MSE 17.099179541553955\n",
      "Params 100 0.003368421052631579\n",
      "MSE 18.246298853346545\n",
      "Params 100 0.003368421052631579\n",
      "MSE 8.43914779145198\n",
      "Params 100 0.003368421052631579\n",
      "MSE 3.8221174043194277\n",
      "Params 100 0.003368421052631579\n",
      "MSE 10.471197149750367\n",
      "Params 100 0.003368421052631579\n",
      "MSE 4.727364442673681\n",
      "Params 100 0.003368421052631579\n",
      "MSE 5.256646063459918\n",
      "Params 100 0.003368421052631579\n",
      "MSE 6.084881067954031\n",
      "Params 100 0.003842105263157895\n",
      "MSE 16.00718625881046\n",
      "Params 100 0.003842105263157895\n",
      "MSE 13.88755455944609\n",
      "Params 100 0.003842105263157895\n",
      "MSE 18.277994029479107\n",
      "Params 100 0.003842105263157895\n",
      "MSE 9.144067220101464\n",
      "Params 100 0.003842105263157895\n",
      "MSE 10.139363800883913\n",
      "Params 100 0.003842105263157895\n",
      "MSE 3.0228362338192603\n",
      "Params 100 0.003842105263157895\n",
      "MSE 5.411982312593814\n",
      "Params 100 0.003842105263157895\n",
      "MSE 1.9177576349812981\n",
      "Params 100 0.003842105263157895\n",
      "MSE 1.256648886226387\n",
      "Params 100 0.00431578947368421\n",
      "MSE 16.178337176962746\n",
      "Params 100 0.00431578947368421\n",
      "MSE 17.35627546499307\n",
      "Params 100 0.00431578947368421\n",
      "MSE 16.13248293211473\n",
      "Params 100 0.00431578947368421\n",
      "MSE 3.765154994402166\n",
      "Params 100 0.00431578947368421\n",
      "MSE 4.646921099345926\n",
      "Params 100 0.00431578947368421\n",
      "MSE 11.621112421928492\n",
      "Params 100 0.00431578947368421\n",
      "MSE 1.7838525698518857\n",
      "Params 100 0.00431578947368421\n",
      "MSE 2.1806624974760065\n",
      "Params 100 0.00431578947368421\n",
      "MSE 7.356100167161635\n",
      "Params 100 0.004789473684210527\n",
      "MSE 11.86164518560235\n",
      "Params 100 0.004789473684210527\n",
      "MSE 13.964209768791957\n",
      "Params 100 0.004789473684210527\n",
      "MSE 18.412667683472016\n",
      "Params 100 0.004789473684210527\n",
      "MSE 4.209109733467\n",
      "Params 100 0.004789473684210527\n",
      "MSE 11.1764740309506\n",
      "Params 100 0.004789473684210527\n",
      "MSE 6.054073448569479\n",
      "Params 100 0.004789473684210527\n",
      "MSE 2.021874042089141\n",
      "Params 100 0.004789473684210527\n",
      "MSE 2.424234523705682\n",
      "Params 100 0.004789473684210527\n",
      "MSE 7.945578960108042\n",
      "Params 100 0.005263157894736842\n",
      "MSE 12.099824776901416\n",
      "Params 100 0.005263157894736842\n",
      "MSE 17.502772742508814\n",
      "Params 100 0.005263157894736842\n",
      "MSE 18.571354622330066\n",
      "Params 100 0.005263157894736842\n",
      "MSE 4.587264190003804\n",
      "Params 100 0.005263157894736842\n",
      "MSE 11.656873755041474\n",
      "Params 100 0.005263157894736842\n",
      "MSE 6.3705321683295715\n",
      "Params 100 0.005263157894736842\n",
      "MSE 2.2245714642606456\n",
      "Params 100 0.005263157894736842\n",
      "MSE 1.3238349133883534\n",
      "Params 100 0.005263157894736842\n",
      "MSE 8.40283027254835\n",
      "Params 100 0.005736842105263158\n",
      "MSE 12.265734997801879\n",
      "Params 100 0.005736842105263158\n",
      "MSE 14.048404051340874\n",
      "Params 100 0.005736842105263158\n",
      "MSE 18.6742835682698\n",
      "Params 100 0.005736842105263158\n",
      "MSE 4.923584807703797\n",
      "Params 100 0.005736842105263158\n",
      "MSE 5.70563956962048\n",
      "Params 100 0.005736842105263158\n",
      "MSE 12.914022539694331\n",
      "Params 100 0.005736842105263158\n",
      "MSE 2.51509044796275\n",
      "Params 100 0.005736842105263158\n",
      "MSE 2.9074121612041366\n",
      "Params 100 0.005736842105263158\n",
      "MSE 0.8006609787080005\n",
      "Params 100 0.0062105263157894745\n",
      "MSE 12.323635075091854\n",
      "Params 100 0.0062105263157894745\n",
      "MSE 12.859461272888238\n",
      "Params 100 0.0062105263157894745\n",
      "MSE 15.978246630781282\n",
      "Params 100 0.0062105263157894745\n",
      "MSE 2.663121917662951\n",
      "Params 100 0.0062105263157894745\n",
      "MSE 3.3854973040914405\n",
      "Params 100 0.0062105263157894745\n",
      "MSE 7.003384785898965\n",
      "Params 100 0.0062105263157894745\n",
      "MSE 8.253497701308808\n",
      "Params 100 0.0062105263157894745\n",
      "MSE 8.899564221671993\n",
      "Params 100 0.0062105263157894745\n",
      "MSE 1.2268026823399922\n",
      "Params 100 0.00668421052631579\n",
      "MSE 12.526835253865704\n",
      "Params 100 0.00668421052631579\n",
      "MSE 12.801673475362891\n",
      "Params 100 0.00668421052631579\n",
      "MSE 15.943250170922925\n",
      "Params 100 0.00668421052631579\n",
      "MSE 12.286618108258587\n",
      "Params 100 0.00668421052631579\n",
      "MSE 13.068507476783658\n",
      "Params 100 0.00668421052631579\n",
      "MSE 3.0383241054185\n",
      "Params 100 0.00668421052631579\n",
      "MSE 1.372138528722416\n",
      "Params 100 0.00668421052631579\n",
      "MSE 3.43231506559795\n",
      "Params 100 0.00668421052631579\n",
      "MSE 0.9788259099210846\n",
      "Params 100 0.007157894736842105\n",
      "MSE 10.437842959034171\n",
      "Params 100 0.007157894736842105\n",
      "MSE 18.327011094753747\n",
      "Params 100 0.007157894736842105\n",
      "MSE 15.918919479282955\n",
      "Params 100 0.007157894736842105\n",
      "MSE 3.0575854913084806\n",
      "Params 100 0.007157894736842105\n",
      "MSE 6.615781685705656\n",
      "Params 100 0.007157894736842105\n",
      "MSE 4.608355542374651\n",
      "Params 100 0.007157894736842105\n",
      "MSE 9.263495654244673\n",
      "Params 100 0.007157894736842105\n",
      "MSE 3.658952232099948\n",
      "Params 100 0.007157894736842105\n",
      "MSE 2.1239764043431046\n",
      "Params 100 0.0076315789473684215\n",
      "MSE 12.978707610436594\n",
      "Params 100 0.0076315789473684215\n",
      "MSE 14.33621908697152\n",
      "Params 100 0.0076315789473684215\n",
      "MSE 15.612164696899018\n",
      "Params 100 0.0076315789473684215\n",
      "MSE 13.136878698454396\n",
      "Params 100 0.0076315789473684215\n",
      "MSE 6.915373046043129\n",
      "Params 100 0.0076315789473684215\n",
      "MSE 1.51987401217338\n"
     ]
    },
    {
     "name": "stdout",
     "output_type": "stream",
     "text": [
      "Params 100 0.0076315789473684215\n",
      "MSE 0.9824297820959651\n",
      "Params 100 0.0076315789473684215\n",
      "MSE 3.8422030141348267\n",
      "Params 100 0.0076315789473684215\n",
      "MSE 2.246770690767151\n",
      "Params 100 0.008105263157894737\n",
      "MSE 10.693238411479749\n",
      "Params 100 0.008105263157894737\n",
      "MSE 18.762191335850357\n",
      "Params 100 0.008105263157894737\n",
      "MSE 15.933251353704328\n",
      "Params 100 0.008105263157894737\n",
      "MSE 2.0372888835881446\n",
      "Params 100 0.008105263157894737\n",
      "MSE 7.164490805970129\n",
      "Params 100 0.008105263157894737\n",
      "MSE 2.531597281844994\n",
      "Params 100 0.008105263157894737\n",
      "MSE 1.0100846137171309\n",
      "Params 100 0.008105263157894737\n",
      "MSE 10.575801509633747\n",
      "Params 100 0.008105263157894737\n",
      "MSE 4.645247468080629\n",
      "Params 100 0.008578947368421054\n",
      "MSE 13.263460302820517\n",
      "Params 100 0.008578947368421054\n",
      "MSE 12.935031500871721\n",
      "Params 100 0.008578947368421054\n",
      "MSE 16.080847637562922\n",
      "Params 100 0.008578947368421054\n",
      "MSE 2.1371252984375637\n",
      "Params 100 0.008578947368421054\n",
      "MSE 4.2914074541105505\n",
      "Params 100 0.008578947368421054\n",
      "MSE 15.122939842761234\n",
      "Params 100 0.008578947368421054\n",
      "MSE 3.865623580509581\n",
      "Params 100 0.008578947368421054\n",
      "MSE 1.301078024422835\n",
      "Params 100 0.008578947368421054\n",
      "MSE 0.637904903078088\n",
      "Params 100 0.009052631578947368\n",
      "MSE 13.48410683333521\n",
      "Params 100 0.009052631578947368\n",
      "MSE 13.015016537692244\n",
      "Params 100 0.009052631578947368\n",
      "MSE 19.721627217851893\n",
      "Params 100 0.009052631578947368\n",
      "MSE 7.043357315288423\n",
      "Params 100 0.009052631578947368\n",
      "MSE 4.51429635940232\n",
      "Params 100 0.009052631578947368\n",
      "MSE 8.52650945249609\n",
      "Params 100 0.009052631578947368\n",
      "MSE 1.1336633469667905\n",
      "Params 100 0.009052631578947368\n",
      "MSE 4.534470182103867\n",
      "Params 100 0.009052631578947368\n",
      "MSE 0.7033210816568516\n",
      "Params 100 0.009526315789473685\n",
      "MSE 13.671230444218505\n",
      "Params 100 0.009526315789473685\n",
      "MSE 13.030653295344573\n",
      "Params 100 0.009526315789473685\n",
      "MSE 16.259690906775173\n",
      "Params 100 0.009526315789473685\n",
      "MSE 7.199994214273446\n",
      "Params 100 0.009526315789473685\n",
      "MSE 4.707943710759781\n",
      "Params 100 0.009526315789473685\n",
      "MSE 1.4723861354187917\n",
      "Params 100 0.009526315789473685\n",
      "MSE 1.191197672646492\n",
      "Params 100 0.009526315789473685\n",
      "MSE 1.4167961462938172\n",
      "Params 100 0.009526315789473685\n",
      "MSE 12.284861620711649\n",
      "Params 100 0.01\n",
      "MSE 13.829736966946072\n",
      "Params 100 0.01\n",
      "MSE 12.645348058276314\n",
      "Params 100 0.01\n",
      "MSE 16.28042575818304\n",
      "Params 100 0.01\n",
      "MSE 4.1611243828728055\n",
      "Params 100 0.01\n",
      "MSE 4.874093212816745\n",
      "Params 100 0.01\n",
      "MSE 15.919192848444675\n",
      "Params 100 0.01\n",
      "MSE 1.2468466697562617\n",
      "Params 100 0.01\n",
      "MSE 5.018100741486554\n",
      "Params 100 0.01\n",
      "MSE 1.8341233595566286\n",
      "Params 200 0.001\n",
      "MSE 14.27505013823657\n",
      "Params 200 0.001\n",
      "MSE 17.58598802932221\n",
      "Params 200 0.001\n",
      "MSE 19.27060153876928\n",
      "Params 200 0.001\n",
      "MSE 2.341839586401868\n",
      "Params 200 0.001\n",
      "MSE 3.646810383327104\n",
      "Params 200 0.001\n",
      "MSE 5.377316691191473\n",
      "Params 200 0.001\n",
      "MSE 0.7943719836702193\n",
      "Params 200 0.001\n",
      "MSE 1.1142082098467596\n",
      "Params 200 0.001\n",
      "MSE 1.6657152408889262\n",
      "Params 200 0.0014736842105263158\n",
      "MSE 14.598722484098838\n",
      "Params 200 0.0014736842105263158\n",
      "MSE 17.066091691333728\n",
      "Params 200 0.0014736842105263158\n",
      "MSE 18.94601688210129\n",
      "Params 200 0.0014736842105263158\n",
      "MSE 4.064087663192332\n",
      "Params 200 0.0014736842105263158\n",
      "MSE 5.360242398337398\n",
      "Params 200 0.0014736842105263158\n",
      "MSE 6.923002137405163\n",
      "Params 200 0.0014736842105263158\n",
      "MSE 1.445439630589895\n",
      "Params 200 0.0014736842105263158\n",
      "MSE 1.9000582823480485\n",
      "Params 200 0.0014736842105263158\n",
      "MSE 2.636079809304563\n",
      "Params 200 0.0019473684210526317\n",
      "MSE 15.049041948217063\n",
      "Params 200 0.0019473684210526317\n",
      "MSE 17.003943342103202\n",
      "Params 200 0.0019473684210526317\n",
      "MSE 18.556308570065195\n",
      "Params 200 0.0019473684210526317\n",
      "MSE 5.391886634117163\n",
      "Params 200 0.0019473684210526317\n",
      "MSE 6.636512044783609\n",
      "Params 200 0.0019473684210526317\n",
      "MSE 8.081018311026169\n",
      "Params 200 0.0019473684210526317\n",
      "MSE 2.2509426727174753\n",
      "Params 200 0.0019473684210526317\n",
      "MSE 2.8169739361659945\n",
      "Params 200 0.0019473684210526317\n",
      "MSE 3.5783207590311847\n",
      "Params 200 0.0024210526315789475\n",
      "MSE 15.333091445705387\n",
      "Params 200 0.0024210526315789475\n",
      "MSE 16.846727981928286\n",
      "Params 200 0.0024210526315789475\n",
      "MSE 18.34841978825851\n",
      "Params 200 0.0024210526315789475\n",
      "MSE 6.643504123341353\n",
      "Params 200 0.0024210526315789475\n",
      "MSE 7.757764152039646\n",
      "Params 200 0.0024210526315789475\n",
      "MSE 9.011954767289843\n",
      "Params 200 0.0024210526315789475\n",
      "MSE 3.1169235497256254\n",
      "Params 200 0.0024210526315789475\n",
      "MSE 3.698807685311615\n",
      "Params 200 0.0024210526315789475\n",
      "MSE 4.41787635586927\n",
      "Params 200 0.0028947368421052633\n",
      "MSE 15.426170637452808\n",
      "Params 200 0.0028947368421052633\n",
      "MSE 17.028226504939866\n",
      "Params 200 0.0028947368421052633\n",
      "MSE 18.340610793902886\n",
      "Params 200 0.0028947368421052633\n",
      "MSE 7.652719292955795\n",
      "Params 200 0.0028947368421052633\n",
      "MSE 8.669216387717176\n",
      "Params 200 0.0028947368421052633\n",
      "MSE 9.758620597986521\n",
      "Params 200 0.0028947368421052633\n",
      "MSE 3.9358523991961487\n",
      "Params 200 0.0028947368421052633\n",
      "MSE 1.421093112302534\n",
      "Params 200 0.0028947368421052633\n",
      "MSE 5.331650970166505\n",
      "Params 200 0.003368421052631579\n",
      "MSE 15.671273382077512\n",
      "Params 200 0.003368421052631579\n",
      "MSE 17.099179541553955\n",
      "Params 200 0.003368421052631579\n",
      "MSE 18.246298853346545\n",
      "Params 200 0.003368421052631579\n",
      "MSE 8.43914779145198\n",
      "Params 200 0.003368421052631579\n",
      "MSE 3.8221174043194277\n",
      "Params 200 0.003368421052631579\n",
      "MSE 10.471197149750367\n",
      "Params 200 0.003368421052631579\n",
      "MSE 4.727364442673681\n",
      "Params 200 0.003368421052631579\n",
      "MSE 5.256646063459918\n",
      "Params 200 0.003368421052631579\n",
      "MSE 6.084881067954031\n",
      "Params 200 0.003842105263157895\n",
      "MSE 16.00718625881046\n",
      "Params 200 0.003842105263157895\n",
      "MSE 13.88755455944609\n",
      "Params 200 0.003842105263157895\n",
      "MSE 18.277994029479107\n",
      "Params 200 0.003842105263157895\n",
      "MSE 9.144067220101464\n",
      "Params 200 0.003842105263157895\n",
      "MSE 10.139363800883913\n",
      "Params 200 0.003842105263157895\n",
      "MSE 3.0228362338192603\n",
      "Params 200 0.003842105263157895\n",
      "MSE 5.411982312593814\n",
      "Params 200 0.003842105263157895\n",
      "MSE 1.9177576349812981\n",
      "Params 200 0.003842105263157895\n",
      "MSE 1.256648886226387\n",
      "Params 200 0.00431578947368421\n",
      "MSE 16.178337176962746\n",
      "Params 200 0.00431578947368421\n",
      "MSE 17.35627546499307\n",
      "Params 200 0.00431578947368421\n",
      "MSE 16.13248293211473\n",
      "Params 200 0.00431578947368421\n",
      "MSE 3.765154994402166\n",
      "Params 200 0.00431578947368421\n",
      "MSE 4.646921099345926\n",
      "Params 200 0.00431578947368421\n",
      "MSE 11.621112421928492\n",
      "Params 200 0.00431578947368421\n",
      "MSE 1.7838525698518857\n",
      "Params 200 0.00431578947368421\n",
      "MSE 2.1806624974760065\n",
      "Params 200 0.00431578947368421\n",
      "MSE 7.356100167161635\n",
      "Params 200 0.004789473684210527\n",
      "MSE 11.86164518560235\n",
      "Params 200 0.004789473684210527\n",
      "MSE 13.964209768791957\n",
      "Params 200 0.004789473684210527\n",
      "MSE 18.412667683472016\n",
      "Params 200 0.004789473684210527\n",
      "MSE 4.209109733467\n",
      "Params 200 0.004789473684210527\n",
      "MSE 11.1764740309506\n",
      "Params 200 0.004789473684210527\n",
      "MSE 6.054073448569479\n",
      "Params 200 0.004789473684210527\n",
      "MSE 2.021874042089141\n",
      "Params 200 0.004789473684210527\n",
      "MSE 2.424234523705682\n",
      "Params 200 0.004789473684210527\n",
      "MSE 7.945578960108042\n",
      "Params 200 0.005263157894736842\n",
      "MSE 12.099824776901416\n",
      "Params 200 0.005263157894736842\n",
      "MSE 17.502772742508814\n",
      "Params 200 0.005263157894736842\n",
      "MSE 18.571354622330066\n",
      "Params 200 0.005263157894736842\n",
      "MSE 4.587264190003804\n",
      "Params 200 0.005263157894736842\n",
      "MSE 11.656873755041474\n",
      "Params 200 0.005263157894736842\n",
      "MSE 6.3705321683295715\n",
      "Params 200 0.005263157894736842\n",
      "MSE 2.2245714642606456\n",
      "Params 200 0.005263157894736842\n",
      "MSE 1.3238349133883534\n",
      "Params 200 0.005263157894736842\n",
      "MSE 8.40283027254835\n",
      "Params 200 0.005736842105263158\n",
      "MSE 12.265734997801879\n",
      "Params 200 0.005736842105263158\n",
      "MSE 14.048404051340874\n",
      "Params 200 0.005736842105263158\n",
      "MSE 18.6742835682698\n",
      "Params 200 0.005736842105263158\n",
      "MSE 4.923584807703797\n",
      "Params 200 0.005736842105263158\n",
      "MSE 5.70563956962048\n",
      "Params 200 0.005736842105263158\n",
      "MSE 12.914022539694331\n",
      "Params 200 0.005736842105263158\n",
      "MSE 2.51509044796275\n",
      "Params 200 0.005736842105263158\n",
      "MSE 2.9074121612041366\n",
      "Params 200 0.005736842105263158\n",
      "MSE 0.8006609787080005\n",
      "Params 200 0.0062105263157894745\n",
      "MSE 12.323635075091854\n",
      "Params 200 0.0062105263157894745\n",
      "MSE 12.859461272888238\n",
      "Params 200 0.0062105263157894745\n",
      "MSE 15.978246630781282\n",
      "Params 200 0.0062105263157894745\n",
      "MSE 2.663121917662951\n",
      "Params 200 0.0062105263157894745\n",
      "MSE 3.3854973040914405\n",
      "Params 200 0.0062105263157894745\n",
      "MSE 7.003384785898965\n",
      "Params 200 0.0062105263157894745\n",
      "MSE 8.253497701308808\n",
      "Params 200 0.0062105263157894745\n",
      "MSE 8.899564221671993\n"
     ]
    },
    {
     "name": "stdout",
     "output_type": "stream",
     "text": [
      "Params 200 0.0062105263157894745\n",
      "MSE 1.2268026823399922\n",
      "Params 200 0.00668421052631579\n",
      "MSE 12.526835253865704\n",
      "Params 200 0.00668421052631579\n",
      "MSE 12.801673475362891\n",
      "Params 200 0.00668421052631579\n",
      "MSE 15.943250170922925\n",
      "Params 200 0.00668421052631579\n",
      "MSE 12.286618108258587\n",
      "Params 200 0.00668421052631579\n",
      "MSE 13.068507476783658\n",
      "Params 200 0.00668421052631579\n",
      "MSE 3.0383241054185\n",
      "Params 200 0.00668421052631579\n",
      "MSE 1.372138528722416\n",
      "Params 200 0.00668421052631579\n",
      "MSE 3.43231506559795\n",
      "Params 200 0.00668421052631579\n",
      "MSE 0.9788259099210846\n",
      "Params 200 0.007157894736842105\n",
      "MSE 10.437842959034171\n",
      "Params 200 0.007157894736842105\n",
      "MSE 18.327011094753747\n",
      "Params 200 0.007157894736842105\n",
      "MSE 15.918919479282955\n",
      "Params 200 0.007157894736842105\n",
      "MSE 3.0575854913084806\n",
      "Params 200 0.007157894736842105\n",
      "MSE 6.615781685705656\n",
      "Params 200 0.007157894736842105\n",
      "MSE 4.608355542374651\n",
      "Params 200 0.007157894736842105\n",
      "MSE 9.263495654244673\n",
      "Params 200 0.007157894736842105\n",
      "MSE 3.658952232099948\n",
      "Params 200 0.007157894736842105\n",
      "MSE 2.1239764043431046\n",
      "Params 200 0.0076315789473684215\n",
      "MSE 12.978707610436594\n",
      "Params 200 0.0076315789473684215\n",
      "MSE 14.33621908697152\n",
      "Params 200 0.0076315789473684215\n",
      "MSE 15.612164696899018\n",
      "Params 200 0.0076315789473684215\n",
      "MSE 13.136878698454396\n",
      "Params 200 0.0076315789473684215\n",
      "MSE 6.915373046043129\n",
      "Params 200 0.0076315789473684215\n",
      "MSE 1.51987401217338\n",
      "Params 200 0.0076315789473684215\n",
      "MSE 0.9824297820959651\n",
      "Params 200 0.0076315789473684215\n",
      "MSE 3.8422030141348267\n",
      "Params 200 0.0076315789473684215\n",
      "MSE 2.246770690767151\n",
      "Params 200 0.008105263157894737\n",
      "MSE 10.693238411479749\n",
      "Params 200 0.008105263157894737\n",
      "MSE 18.762191335850357\n",
      "Params 200 0.008105263157894737\n",
      "MSE 15.933251353704328\n",
      "Params 200 0.008105263157894737\n",
      "MSE 2.0372888835881446\n",
      "Params 200 0.008105263157894737\n",
      "MSE 7.164490805970129\n",
      "Params 200 0.008105263157894737\n",
      "MSE 2.531597281844994\n",
      "Params 200 0.008105263157894737\n",
      "MSE 1.0100846137171309\n",
      "Params 200 0.008105263157894737\n",
      "MSE 10.575801509633747\n",
      "Params 200 0.008105263157894737\n",
      "MSE 4.645247468080629\n",
      "Params 200 0.008578947368421054\n",
      "MSE 13.263460302820517\n",
      "Params 200 0.008578947368421054\n",
      "MSE 12.935031500871721\n",
      "Params 200 0.008578947368421054\n",
      "MSE 16.080847637562922\n",
      "Params 200 0.008578947368421054\n",
      "MSE 2.1371252984375637\n",
      "Params 200 0.008578947368421054\n",
      "MSE 4.2914074541105505\n",
      "Params 200 0.008578947368421054\n",
      "MSE 15.122939842761234\n",
      "Params 200 0.008578947368421054\n",
      "MSE 3.865623580509581\n",
      "Params 200 0.008578947368421054\n",
      "MSE 1.301078024422835\n",
      "Params 200 0.008578947368421054\n",
      "MSE 0.637904903078088\n",
      "Params 200 0.009052631578947368\n",
      "MSE 13.48410683333521\n",
      "Params 200 0.009052631578947368\n",
      "MSE 13.015016537692244\n",
      "Params 200 0.009052631578947368\n",
      "MSE 19.721627217851893\n",
      "Params 200 0.009052631578947368\n",
      "MSE 7.043357315288423\n",
      "Params 200 0.009052631578947368\n",
      "MSE 4.51429635940232\n",
      "Params 200 0.009052631578947368\n",
      "MSE 8.52650945249609\n",
      "Params 200 0.009052631578947368\n",
      "MSE 1.1336633469667905\n",
      "Params 200 0.009052631578947368\n",
      "MSE 4.534470182103867\n",
      "Params 200 0.009052631578947368\n",
      "MSE 0.7033210816568516\n",
      "Params 200 0.009526315789473685\n",
      "MSE 13.671230444218505\n",
      "Params 200 0.009526315789473685\n",
      "MSE 13.030653295344573\n",
      "Params 200 0.009526315789473685\n",
      "MSE 16.259690906775173\n",
      "Params 200 0.009526315789473685\n",
      "MSE 7.199994214273446\n",
      "Params 200 0.009526315789473685\n",
      "MSE 4.707943710759781\n",
      "Params 200 0.009526315789473685\n",
      "MSE 1.4723861354187917\n",
      "Params 200 0.009526315789473685\n",
      "MSE 1.191197672646492\n",
      "Params 200 0.009526315789473685\n",
      "MSE 1.4167961462938172\n",
      "Params 200 0.009526315789473685\n",
      "MSE 12.284861620711649\n",
      "Params 200 0.01\n",
      "MSE 13.829736966946072\n",
      "Params 200 0.01\n",
      "MSE 12.645348058276314\n",
      "Params 200 0.01\n",
      "MSE 16.28042575818304\n",
      "Params 200 0.01\n",
      "MSE 4.1611243828728055\n",
      "Params 200 0.01\n",
      "MSE 4.874093212816745\n",
      "Params 200 0.01\n",
      "MSE 15.919192848444675\n",
      "Params 200 0.01\n",
      "MSE 1.2468466697562617\n",
      "Params 200 0.01\n",
      "MSE 5.018100741486554\n",
      "Params 200 0.01\n",
      "MSE 1.8341233595566286\n"
     ]
    }
   ],
   "source": [
    "best_params = []\n",
    "params = []\n",
    "min_mse = -1\n",
    "best_mse = []\n",
    "mse_all = []\n",
    "finals = []\n",
    "best_finals = []\n",
    "for max_iter in max_iters:\n",
    "    for eta in etas:\n",
    "        for beta1 in betas1:\n",
    "            for beta2 in betas2:\n",
    "                linreg = LinearReg(max_iter=max_iter, eta=eta, gd_type='adam', tolerance=1e-4, beta1=beta1, beta2=beta2)\n",
    "                linreg.fit(x_v_train, y_v_train)\n",
    "                print(\"Params\", max_iter, eta)\n",
    "                pred = linreg.predict(x_v_test)\n",
    "                mse = mean_squared_error(y_v_test, pred)\n",
    "                print(\"MSE\", mse)\n",
    "                params.append((max_iter, eta, beta1, beta2))\n",
    "                mse_all.append(mse)\n",
    "                finals.append(linreg.final)\n",
    "                if min_mse != -1 and mse < min_mse:\n",
    "                    min_mse = mse\n",
    "                    best_params.append((max_iter, eta, beta1, beta2))\n",
    "                    best_mse.append(mse)\n",
    "                    best_finals.append(linreg.final)\n",
    "                elif min_mse == -1:\n",
    "                    min_mse = mse"
   ]
  },
  {
   "cell_type": "code",
   "execution_count": 274,
   "metadata": {
    "ExecuteTime": {
     "end_time": "2019-10-15T03:15:54.543254Z",
     "start_time": "2019-10-15T03:15:54.539746Z"
    }
   },
   "outputs": [
    {
     "data": {
      "text/plain": [
       "(10, 0.0028947368421052633, 0.9, 0.9)"
      ]
     },
     "execution_count": 274,
     "metadata": {},
     "output_type": "execute_result"
    }
   ],
   "source": [
    "best_params[-1]"
   ]
  },
  {
   "cell_type": "code",
   "execution_count": 280,
   "metadata": {
    "ExecuteTime": {
     "end_time": "2019-10-15T03:17:43.510699Z",
     "start_time": "2019-10-15T03:17:43.269187Z"
    }
   },
   "outputs": [
    {
     "data": {
      "image/png": "[encoded data removed]",
      "text/plain": [
       "<Figure size 720x720 with 1 Axes>"
      ]
     },
     "metadata": {
      "needs_background": "light"
     },
     "output_type": "display_data"
    }
   ],
   "source": [
    "plt.figure(figsize=(10, 10))\n",
    "plt.plot(linreg_full.loss_history, label=\"FULL\")\n",
    "plt.plot(linreg_sgd.loss_history, label=\"SGD\")\n",
    "plt.plot(linreg_momentum.loss_history, label=\"Momentum\")\n",
    "plt.plot(linreg_adam.loss_history, label=\"Adam\")\n",
    "plt.xlabel(\"Steps\")\n",
    "plt.ylabel(\"MSE\")\n",
    "plt.legend()\n",
    "plt.title(\"whith Adam\")\n",
    "plt.show()"
   ]
  },
  {
   "cell_type": "markdown",
   "metadata": {},
   "source": [
    "## **Задание 8 (2 балла)**. \n",
    "Реализуйте линейную регрессию с функцией потерь\n",
    "$$ L(\\hat{y}, y) = log(cosh(\\hat{y} - y)),$$\n",
    "\n",
    "обучаемую с помощью градиентного спуска."
   ]
  },
  {
   "cell_type": "markdown",
   "metadata": {},
   "source": [
    "Найдем производные этой функции:\n",
    "$$\\dfrac{\\partial}{\\partial w_i}L(\\hat{y}, y) = x_i^{T} \\tanh(Xw - y)$$\n",
    "\n",
    "Тогда градиент:\n",
    "$$\\nabla L(\\hat{y}, y) = X^T\\tanh(Xw - y)$$"
   ]
  },
  {
   "cell_type": "code",
   "execution_count": 156,
   "metadata": {
    "ExecuteTime": {
     "end_time": "2019-10-14T23:23:00.747599Z",
     "start_time": "2019-10-14T23:23:00.733587Z"
    }
   },
   "outputs": [],
   "source": [
    "class LinearRegCosh(BaseEstimator):\n",
    "    def __init__(self, delta=1.0, gd_type='stochastic', \n",
    "                 tolerance=1e-3, max_iter=10, w0=None, alpha=1e-3, eta=1e-2, \n",
    "                 iter_steps=False, beta1=0.9, beta2=0.999, eps= 1e-8):\n",
    "        \"\"\"\n",
    "        gd_type: 'full' or 'stochastic' or 'momentum'\n",
    "        tolerance: for stopping gradient descent\n",
    "        max_iter: maximum number of steps in gradient descent\n",
    "        w0: np.array of shape (d) - init weights\n",
    "        eta: learning rate\n",
    "        alpha: momentum coefficient\n",
    "        iter_steps: Enable step sequence for Robbins–Monro algorithm in 'stohastic' (addition) \n",
    "        \"\"\"\n",
    "        self.delta = delta\n",
    "        self.gd_type = gd_type\n",
    "        self.tolerance = tolerance\n",
    "        self.max_iter = max_iter\n",
    "        self.w0 = w0\n",
    "        self.alpha = alpha\n",
    "        self.w = None\n",
    "        self.eta = eta\n",
    "        self.loss_history = None # list of loss function values at each training iteration\n",
    "        self.final = -1\n",
    "        self.beta1 = beta1\n",
    "        self.beta2 = beta2\n",
    "        self.eps = eps\n",
    "    \n",
    "    def fit(self, X, y):\n",
    "        \"\"\"\n",
    "        X: np.array of shape (ell, d)\n",
    "        y: np.array of shape (ell)\n",
    "        ---\n",
    "        output: self\n",
    "        \"\"\"\n",
    "        self.loss_history = []\n",
    "        # ingnore strings \n",
    "        X_n = X.loc[:, X.select_dtypes('number').columns]\n",
    "        X_n[\"bias\"] = 1\n",
    "        X_n = X_n.apply(np.around, decimals=2)\n",
    "        if self.w0:\n",
    "            self.w = self.w0\n",
    "        else:\n",
    "            self.w = np.zeros(X_n.shape[1])\n",
    "        if self.gd_type == \"full\":\n",
    "            for i in range(self.max_iter):\n",
    "                candidat = self.w - self.eta*self.calc_gradient(X_n, y)\n",
    "#                 print(candidat)\n",
    "                if np.sqrt(mean_squared_error(self.w, candidat)) < self.tolerance:\n",
    "#                     print(\"Final Step\", i)\n",
    "                    self.final = i\n",
    "                    break;\n",
    "                self.w = candidat\n",
    "                self.loss_history.append(self.calc_loss(X_n, y))\n",
    "            if self.final == -1:\n",
    "                self.final = self.max_iter\n",
    "        return self\n",
    "    \n",
    "    def predict(self, X):\n",
    "        X_n = X.loc[:, X.select_dtypes('number').columns]\n",
    "        X_n[\"bias\"] = 1\n",
    "        return X_n @ self.w\n",
    "    \n",
    "    def calc_gradient(self, X, y):\n",
    "        \"\"\"\n",
    "        X: np.array of shape (ell, d) (ell can be equal to 1 if stochastic)\n",
    "        y: np.array of shape (ell)\n",
    "        ---\n",
    "        output: np.array of shape (d)\n",
    "        \"\"\"\n",
    "        gradient = np.dot(X.T, np.tanh(np.dot(X , self.w) - y))\n",
    "#         print(gradient)\n",
    "        return gradient\n",
    "    def calc_loss(self, X, y):\n",
    "        \"\"\"\n",
    "        X: np.array of shape (ell, d)\n",
    "        y: np.array of shape (ell)\n",
    "        ---\n",
    "        output: float \n",
    "        \"\"\" \n",
    "#         print(self.predict(X) - y)\n",
    "        x = self.predict(X) - y\n",
    "        return np.log((1/2 * (np.exp(x) + np.exp(-x))))\n",
    "    def get_finish():\n",
    "        return self.final"
   ]
  },
  {
   "cell_type": "markdown",
   "metadata": {},
   "source": [
    "Реализация -- есть, только проблемы с overflow cosh"
   ]
  },
  {
   "cell_type": "code",
   "execution_count": 157,
   "metadata": {
    "ExecuteTime": {
     "end_time": "2019-10-14T23:23:01.566131Z",
     "start_time": "2019-10-14T23:23:01.563463Z"
    }
   },
   "outputs": [],
   "source": [
    "lincosh = LinearRegCosh(gd_type='full')"
   ]
  },
  {
   "cell_type": "code",
   "execution_count": 158,
   "metadata": {
    "ExecuteTime": {
     "end_time": "2019-10-14T23:23:06.061406Z",
     "start_time": "2019-10-14T23:23:02.344293Z"
    }
   },
   "outputs": [
    {
     "data": {
      "text/plain": [
       "LinearRegCosh(alpha=0.001, beta1=0.9, beta2=0.999, delta=1.0, eps=1e-08,\n",
       "              eta=0.01, gd_type='full', iter_steps=None, max_iter=10,\n",
       "              tolerance=0.001, w0=None)"
      ]
     },
     "execution_count": 158,
     "metadata": {},
     "output_type": "execute_result"
    }
   ],
   "source": [
    "lincosh.fit(X_train, y_train)"
   ]
  },
  {
   "cell_type": "code",
   "execution_count": 160,
   "metadata": {
    "ExecuteTime": {
     "end_time": "2019-10-14T23:23:33.153357Z",
     "start_time": "2019-10-14T23:23:33.119950Z"
    }
   },
   "outputs": [],
   "source": [
    "pred_cosh = lincosh.predict(X_test)"
   ]
  },
  {
   "cell_type": "markdown",
   "metadata": {},
   "source": [
    "**Задание 9 (0.01 балла)**.  Вставьте картинку с вашим любимым мемом в этот Jupyter Notebook"
   ]
  },
  {
   "cell_type": "code",
   "execution_count": 165,
   "metadata": {
    "ExecuteTime": {
     "end_time": "2019-10-14T23:52:24.806869Z",
     "start_time": "2019-10-14T23:52:24.769561Z"
    }
   },
   "outputs": [
    {
     "data": {
      "image/jpeg": "[encoded data removed]",
      "text/plain": [
       "<IPython.core.display.Image object>"
      ]
     },
     "execution_count": 165,
     "metadata": {},
     "output_type": "execute_result"
    }
   ],
   "source": [
    "from IPython.display import Image\n",
    "Image(filename='/Users/armine/Downloads/69180155_775867039534465_4737382904974278656_n.jpg')"
   ]
  },
  {
   "cell_type": "code",
   "execution_count": null,
   "metadata": {},
   "outputs": [],
   "source": []
  }
 ],
 "metadata": {
  "kernelspec": {
   "display_name": "Python 3",
   "language": "python",
   "name": "python3"
  },
  "language_info": {
   "codemirror_mode": {
    "name": "ipython",
    "version": 3
   },
   "file_extension": ".py",
   "mimetype": "text/x-python",
   "name": "python",
   "nbconvert_exporter": "python",
   "pygments_lexer": "ipython3",
   "version": "3.7.3"
  },
  "toc": {
   "base_numbering": 1,
   "nav_menu": {
    "height": "234px",
    "width": "517px"
   },
   "number_sections": true,
   "sideBar": true,
   "skip_h1_title": false,
   "title_cell": "Table of Contents",
   "title_sidebar": "Contents",
   "toc_cell": true,
   "toc_position": {
    "height": "calc(100% - 180px)",
    "left": "10px",
    "top": "150px",
    "width": "165px"
   },
   "toc_section_display": true,
   "toc_window_display": true
  }
 },
 "nbformat": 4,
 "nbformat_minor": 2
}
